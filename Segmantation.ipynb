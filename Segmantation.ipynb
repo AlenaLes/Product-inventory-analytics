{
 "cells": [
  {
   "cell_type": "code",
   "execution_count": 21,
   "metadata": {},
   "outputs": [],
   "source": [
    "# pip install openpyxl\n",
    "import pandas as pd\n",
    "import numpy as np\n",
    "import os\n",
    "import openpyxl"
   ]
  },
  {
   "cell_type": "code",
   "execution_count": 22,
   "metadata": {},
   "outputs": [
    {
     "name": "stdout",
     "output_type": "stream",
     "text": [
      "/workspaces/Product-inventory-analytics\n"
     ]
    }
   ],
   "source": [
    "print(os.getcwd())"
   ]
  },
  {
   "attachments": {},
   "cell_type": "markdown",
   "metadata": {},
   "source": [
    "## Проведем аналогичные преобразования"
   ]
  },
  {
   "cell_type": "code",
   "execution_count": 23,
   "metadata": {},
   "outputs": [],
   "source": [
    "Oststki = pd.read_excel('Остатки.xlsx', header=10)\n",
    "\n",
    "# Заменили пустые значения нулями\n",
    "Oststki = Oststki.fillna(0)\n",
    "\n",
    "Oststki.drop(columns = ['Unnamed: 1', 'Unnamed: 2', 'Unnamed: 3', 'Unnamed: 4', 'Комментарии', 'остаток > расхода', 'стоимость за 1 ед'], axis=1, inplace = True)\n",
    "\n",
    "Oststki.rename(columns = {'Номенклатура, № по кат., Производитель':'Name', \n",
    "                          'Количество (в ед. хранения)':'Нач_ост_кол',\n",
    "                          'Сумма (в рег. валюте)':'Нач_ост_сумм',\n",
    "                          'Количество (в ед. хранения).1':'Приход_Кол',\n",
    "                          'Сумма (в рег. валюте).1':'Приход_Сумм',\n",
    "                          'Количество (в ед. хранения).2':'Расход_кол',\n",
    "                          'Сумма (в рег. валюте).2':'Расход_сумм',\n",
    "                          'Количество (в ед. хранения).3':'Кон_ост_кол',\n",
    "                          'Сумма (в рег. валюте).3':'Кон_ост_сумм',\n",
    "                          }, inplace = True )"
   ]
  },
  {
   "cell_type": "code",
   "execution_count": 24,
   "metadata": {},
   "outputs": [],
   "source": [
    "# Отберем данные для отдельной таблице по Угданскому Чатц\n",
    "start = Oststki.index [Oststki['Name']== \"Угданский ЧАТЦ  склад \" ]. tolist ()[0]\n",
    "end = Oststki.index [Oststki['Name']== \"Основной ЧАТЦ\" ]. tolist ()[0]"
   ]
  },
  {
   "cell_type": "code",
   "execution_count": 25,
   "metadata": {},
   "outputs": [],
   "source": [
    "# Функция для отбора только данным по Угданский Чатц\n",
    "list = [i for i in range(start, end+1)]\n",
    "Ugdan = Oststki.take(list, axis = 0)"
   ]
  },
  {
   "attachments": {},
   "cell_type": "markdown",
   "metadata": {},
   "source": [
    "## Анализ групп"
   ]
  },
  {
   "cell_type": "code",
   "execution_count": 26,
   "metadata": {},
   "outputs": [],
   "source": [
    "# Исключим из таблицы строки, где Name включает в себя ', ,'\n",
    "rule = [\", ,\"]\n",
    "rule_2 = [\"ЧАТЦ\"]\n",
    "Ugdan = Ugdan[~Ugdan.Name.str.contains('|'.join(rule))]\n",
    "Ugdan = Ugdan[~Ugdan.Name.str.contains('|'.join(rule_2))]"
   ]
  },
  {
   "cell_type": "code",
   "execution_count": 27,
   "metadata": {},
   "outputs": [
    {
     "data": {
      "text/html": [
       "<div>\n",
       "<style scoped>\n",
       "    .dataframe tbody tr th:only-of-type {\n",
       "        vertical-align: middle;\n",
       "    }\n",
       "\n",
       "    .dataframe tbody tr th {\n",
       "        vertical-align: top;\n",
       "    }\n",
       "\n",
       "    .dataframe thead th {\n",
       "        text-align: right;\n",
       "    }\n",
       "</style>\n",
       "<table border=\"1\" class=\"dataframe\">\n",
       "  <thead>\n",
       "    <tr style=\"text-align: right;\">\n",
       "      <th></th>\n",
       "      <th>Name</th>\n",
       "      <th>Нач_ост_кол</th>\n",
       "      <th>Нач_ост_сумм</th>\n",
       "      <th>Приход_Кол</th>\n",
       "      <th>Приход_Сумм</th>\n",
       "      <th>Расход_кол</th>\n",
       "      <th>Расход_сумм</th>\n",
       "      <th>Кон_ост_кол</th>\n",
       "      <th>Кон_ост_сумм</th>\n",
       "    </tr>\n",
       "  </thead>\n",
       "  <tbody>\n",
       "    <tr>\n",
       "      <th>7963</th>\n",
       "      <td>Шпилька колесная BPW M22*1.5*89/54 070246 , 07...</td>\n",
       "      <td>10.0</td>\n",
       "      <td>2155.18</td>\n",
       "      <td>1.0</td>\n",
       "      <td>300.00</td>\n",
       "      <td>2.0</td>\n",
       "      <td>640.00</td>\n",
       "      <td>9.0</td>\n",
       "      <td>1815.18</td>\n",
       "    </tr>\n",
       "    <tr>\n",
       "      <th>7964</th>\n",
       "      <td>Шприц маслозаливной (пластиковый) 13430, 13430,</td>\n",
       "      <td>0.0</td>\n",
       "      <td>0.00</td>\n",
       "      <td>6.0</td>\n",
       "      <td>552.00</td>\n",
       "      <td>6.0</td>\n",
       "      <td>552.00</td>\n",
       "      <td>0.0</td>\n",
       "      <td>0.00</td>\n",
       "    </tr>\n",
       "    <tr>\n",
       "      <th>7965</th>\n",
       "      <td>Шприц рычажно-плунжерный 500 мл БелАК БАК00019...</td>\n",
       "      <td>1.0</td>\n",
       "      <td>596.11</td>\n",
       "      <td>19.0</td>\n",
       "      <td>12793.11</td>\n",
       "      <td>18.0</td>\n",
       "      <td>11995.91</td>\n",
       "      <td>2.0</td>\n",
       "      <td>1393.31</td>\n",
       "    </tr>\n",
       "    <tr>\n",
       "      <th>7966</th>\n",
       "      <td>Шприц-масленка пластмассовая  SH0750, SH0750,</td>\n",
       "      <td>4.0</td>\n",
       "      <td>440.00</td>\n",
       "      <td>0.0</td>\n",
       "      <td>0.00</td>\n",
       "      <td>4.0</td>\n",
       "      <td>440.00</td>\n",
       "      <td>0.0</td>\n",
       "      <td>0.00</td>\n",
       "    </tr>\n",
       "    <tr>\n",
       "      <th>7967</th>\n",
       "      <td>Эпоксидный клей усиленный AVS AVK-129 17922, 1...</td>\n",
       "      <td>0.0</td>\n",
       "      <td>0.00</td>\n",
       "      <td>12.0</td>\n",
       "      <td>1474.00</td>\n",
       "      <td>10.0</td>\n",
       "      <td>1228.00</td>\n",
       "      <td>2.0</td>\n",
       "      <td>246.00</td>\n",
       "    </tr>\n",
       "  </tbody>\n",
       "</table>\n",
       "</div>"
      ],
      "text/plain": [
       "                                                   Name  Нач_ост_кол  \\\n",
       "7963  Шпилька колесная BPW M22*1.5*89/54 070246 , 07...         10.0   \n",
       "7964   Шприц маслозаливной (пластиковый) 13430, 13430,           0.0   \n",
       "7965  Шприц рычажно-плунжерный 500 мл БелАК БАК00019...          1.0   \n",
       "7966     Шприц-масленка пластмассовая  SH0750, SH0750,           4.0   \n",
       "7967  Эпоксидный клей усиленный AVS AVK-129 17922, 1...          0.0   \n",
       "\n",
       "      Нач_ост_сумм  Приход_Кол  Приход_Сумм  Расход_кол  Расход_сумм  \\\n",
       "7963       2155.18         1.0       300.00         2.0       640.00   \n",
       "7964          0.00         6.0       552.00         6.0       552.00   \n",
       "7965        596.11        19.0     12793.11        18.0     11995.91   \n",
       "7966        440.00         0.0         0.00         4.0       440.00   \n",
       "7967          0.00        12.0      1474.00        10.0      1228.00   \n",
       "\n",
       "      Кон_ост_кол  Кон_ост_сумм  \n",
       "7963          9.0       1815.18  \n",
       "7964          0.0          0.00  \n",
       "7965          2.0       1393.31  \n",
       "7966          0.0          0.00  \n",
       "7967          2.0        246.00  "
      ]
     },
     "execution_count": 27,
     "metadata": {},
     "output_type": "execute_result"
    }
   ],
   "source": [
    "Ugdan.tail()"
   ]
  },
  {
   "attachments": {},
   "cell_type": "markdown",
   "metadata": {},
   "source": [
    "### Информация по группам"
   ]
  },
  {
   "cell_type": "code",
   "execution_count": 28,
   "metadata": {},
   "outputs": [],
   "source": [
    "# Группа 1\n",
    "\n",
    "Count_group_1 = Ugdan.query('Приход_Кол == 0 and Расход_кол == 0')['Name'].count()\n",
    "Sum_group_1 = Ugdan.query('Приход_Кол == 0 and Расход_кол == 0')['Кон_ост_сумм'].sum()\n",
    "\n",
    "Count_group_1_5 = Ugdan.query('Приход_Кол == 0 and Расход_кол == 0 and (Кон_ост_сумм/Кон_ост_кол) > 5000')['Name'].count()\n",
    "Sum_group_1_5 = Ugdan.query('Приход_Кол == 0 and Расход_кол == 0 and (Кон_ост_сумм/Кон_ост_кол) > 5000')['Кон_ост_сумм'].sum()\n",
    "\n",
    "Count_group_1_10 = Ugdan.query('Приход_Кол == 0 and Расход_кол == 0 and (Кон_ост_сумм/Кон_ост_кол) > 10000')['Name'].count()\n",
    "Sum_group_1_10 = Ugdan.query('Приход_Кол == 0 and Расход_кол == 0 and (Кон_ост_сумм/Кон_ост_кол) > 10000')['Кон_ост_сумм'].sum()"
   ]
  },
  {
   "cell_type": "code",
   "execution_count": 29,
   "metadata": {},
   "outputs": [],
   "source": [
    "# Группа 2\n",
    "Count_group_2 = Ugdan.query('Нач_ост_сумм > 0 and Приход_Сумм > 0 and Расход_сумм == 0')['Name'].count()\n",
    "Sum_group_2 = Ugdan.query('Нач_ост_сумм > 0 and Приход_Сумм > 0 and Расход_сумм == 0')['Кон_ост_сумм'].sum()\n",
    "\n",
    "# Группа 3\n",
    "Count_group_3 = Ugdan.query('Нач_ост_сумм > 0 and Расход_сумм > 0 and Кон_ост_кол > Расход_кол')['Name'].count()\n",
    "Sum_group_3 = Ugdan.query('Нач_ост_сумм > 0 and Расход_сумм > 0 and Кон_ост_кол > Расход_кол')['Кон_ост_сумм'].sum()\n",
    "\n",
    "# Группа 4\n",
    "Count_group_4 = Ugdan.query('Нач_ост_сумм == 0 and  Приход_Сумм > 0 and Расход_сумм == 0')['Name'].count()\n",
    "Sum_group_4 = Ugdan.query('Нач_ост_сумм == 0 and  Приход_Сумм > 0 and Расход_сумм == 0')['Кон_ост_сумм'].sum()\n",
    "\n",
    "# Группа 5\n",
    "Count_group_5 = Ugdan.query('Расход_кол >=3 and Кон_ост_кол == 0')['Name'].count()\n",
    "Sum_group_5 = Ugdan.query('Расход_кол >=3 and Кон_ост_кол == 0')['Расход_сумм'].sum()"
   ]
  },
  {
   "cell_type": "code",
   "execution_count": 30,
   "metadata": {},
   "outputs": [
    {
     "data": {
      "text/html": [
       "<div>\n",
       "<style scoped>\n",
       "    .dataframe tbody tr th:only-of-type {\n",
       "        vertical-align: middle;\n",
       "    }\n",
       "\n",
       "    .dataframe tbody tr th {\n",
       "        vertical-align: top;\n",
       "    }\n",
       "\n",
       "    .dataframe thead th {\n",
       "        text-align: right;\n",
       "    }\n",
       "</style>\n",
       "<table border=\"1\" class=\"dataframe\">\n",
       "  <thead>\n",
       "    <tr style=\"text-align: right;\">\n",
       "      <th></th>\n",
       "      <th>Сколько позиций.</th>\n",
       "      <th>Сумма.</th>\n",
       "    </tr>\n",
       "    <tr>\n",
       "      <th>Наименование</th>\n",
       "      <th></th>\n",
       "      <th></th>\n",
       "    </tr>\n",
       "  </thead>\n",
       "  <tbody>\n",
       "    <tr>\n",
       "      <th>группа 1- \"Мертвый\" склад</th>\n",
       "      <td>455</td>\n",
       "      <td>2124984.51</td>\n",
       "    </tr>\n",
       "    <tr>\n",
       "      <th>группа 1 - свыше 5 тыс</th>\n",
       "      <td>92</td>\n",
       "      <td>981347.38</td>\n",
       "    </tr>\n",
       "    <tr>\n",
       "      <th>группа 1 - свыше 10 тыс</th>\n",
       "      <td>29</td>\n",
       "      <td>416146.40</td>\n",
       "    </tr>\n",
       "    <tr>\n",
       "      <th>группа 2 - Бестолковые закупки</th>\n",
       "      <td>2</td>\n",
       "      <td>8258.18</td>\n",
       "    </tr>\n",
       "    <tr>\n",
       "      <th>группа 3 - Излишние запасы</th>\n",
       "      <td>162</td>\n",
       "      <td>556734.29</td>\n",
       "    </tr>\n",
       "    <tr>\n",
       "      <th>группа 4 - Проверка спроса</th>\n",
       "      <td>122</td>\n",
       "      <td>634063.73</td>\n",
       "    </tr>\n",
       "    <tr>\n",
       "      <th>группа 5 - Нет ходового товара</th>\n",
       "      <td>221</td>\n",
       "      <td>1408587.22</td>\n",
       "    </tr>\n",
       "  </tbody>\n",
       "</table>\n",
       "</div>"
      ],
      "text/plain": [
       "                                Сколько позиций.      Сумма.\n",
       "Наименование                                                \n",
       "группа 1- \"Мертвый\" склад                    455  2124984.51\n",
       "группа 1 - свыше 5 тыс                        92   981347.38\n",
       "группа 1 - свыше 10 тыс                       29   416146.40\n",
       "группа 2 - Бестолковые закупки                 2     8258.18\n",
       "группа 3 - Излишние запасы                   162   556734.29\n",
       "группа 4 - Проверка спроса                   122   634063.73\n",
       "группа 5 - Нет ходового товара               221  1408587.22"
      ]
     },
     "execution_count": 30,
     "metadata": {},
     "output_type": "execute_result"
    }
   ],
   "source": [
    "groups = pd.DataFrame({'Наименование': ['группа 1- \"Мертвый\" склад', 'группа 1 - свыше 5 тыс', 'группа 1 - свыше 10 тыс', 'группа 2 - Бестолковые закупки', 'группа 3 - Излишние запасы', 'группа 4 - Проверка спроса', 'группа 5 - Нет ходового товара'], \n",
    "                    'Сколько позиций.': [Count_group_1, Count_group_1_5, Count_group_1_10, Count_group_2, Count_group_3, Count_group_4, Count_group_5], \n",
    "                    'Сумма.': [Sum_group_1, Sum_group_1_5, Sum_group_1_10, Sum_group_2, Sum_group_3, Sum_group_4, Sum_group_5]})\n",
    "groups = groups.set_index('Наименование').round(2)\n",
    "\n",
    "groups"
   ]
  },
  {
   "attachments": {},
   "cell_type": "markdown",
   "metadata": {},
   "source": [
    "## Создадим отдельные таблицы для более датального просмотра товарных позиций"
   ]
  },
  {
   "cell_type": "code",
   "execution_count": 31,
   "metadata": {},
   "outputs": [],
   "source": [
    "Group_1 = Ugdan.query('Приход_Кол == 0 and Расход_кол == 0')\n",
    "Group_1_5 = Ugdan.query('Приход_Кол == 0 and Расход_кол == 0 and (Кон_ост_сумм/Кон_ост_кол) > 5000')\n",
    "Group_1_10 = Ugdan.query('Приход_Кол == 0 and Расход_кол == 0 and (Кон_ост_сумм/Кон_ост_кол) > 10000')\n",
    "\n",
    "Group_2 = Ugdan.query('Нач_ост_сумм > 0 and Приход_Сумм > 0 and Расход_сумм == 0')\n",
    "Group_3 = Ugdan.query('Нач_ост_сумм > 0 and Расход_сумм > 0 and Кон_ост_сумм > Расход_сумм')\n",
    "Group_4 = Ugdan.query('Нач_ост_сумм == 0 and  Приход_Сумм > 0 and Расход_сумм == 0')\n",
    "Group_5 = Ugdan.query('Расход_кол >=3 and Кон_ост_кол == 0')"
   ]
  },
  {
   "attachments": {},
   "cell_type": "markdown",
   "metadata": {},
   "source": [
    "# Выгрузка итоговой таблицы"
   ]
  },
  {
   "cell_type": "code",
   "execution_count": 32,
   "metadata": {},
   "outputs": [],
   "source": [
    "# Отредактируем файл Metrics для добавления обновленных листов\n",
    "wb = openpyxl.load_workbook('Metrics.xlsx') "
   ]
  },
  {
   "cell_type": "code",
   "execution_count": 33,
   "metadata": {},
   "outputs": [
    {
     "name": "stdout",
     "output_type": "stream",
     "text": [
      "['Sheet1', 'Группа 1', 'Группа 1 (>5)', 'Группа 1 (>10)', 'Группа 2', 'Группа 3', 'Группа 4', 'Группа 5']\n"
     ]
    }
   ],
   "source": [
    "sheet = wb.sheetnames\n",
    "print(sheet)"
   ]
  },
  {
   "cell_type": "code",
   "execution_count": 34,
   "metadata": {},
   "outputs": [],
   "source": [
    "with pd.ExcelWriter('Metrics.xlsx', mode='a', if_sheet_exists= 'replace') as writer:  \n",
    "    Group_1.to_excel(writer, sheet_name='Группа 1',index = False)\n",
    "    Group_1_5.to_excel(writer, sheet_name='Группа 1 (>5)',index = False)\n",
    "    Group_1_10.to_excel(writer, sheet_name='Группа 1 (>10)',index = False)\n",
    "    Group_2.to_excel(writer, sheet_name='Группа 2',index = False)\n",
    "    Group_3.to_excel(writer, sheet_name='Группа 3',index = False)\n",
    "    Group_4.to_excel(writer, sheet_name='Группа 4',index = False)\n",
    "    Group_5.to_excel(writer, sheet_name='Группа 5',index = False)"
   ]
  },
  {
   "cell_type": "code",
   "execution_count": null,
   "metadata": {},
   "outputs": [],
   "source": []
  },
  {
   "cell_type": "code",
   "execution_count": null,
   "metadata": {},
   "outputs": [],
   "source": []
  }
 ],
 "metadata": {
  "kernelspec": {
   "display_name": "Python 3 (ipykernel)",
   "language": "python",
   "name": "python3"
  },
  "language_info": {
   "codemirror_mode": {
    "name": "ipython",
    "version": 3
   },
   "file_extension": ".py",
   "mimetype": "text/x-python",
   "name": "python",
   "nbconvert_exporter": "python",
   "pygments_lexer": "ipython3",
   "version": "3.10.4"
  },
  "orig_nbformat": 4
 },
 "nbformat": 4,
 "nbformat_minor": 2
}
