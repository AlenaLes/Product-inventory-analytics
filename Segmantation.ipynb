{
 "cells": [
  {
   "cell_type": "code",
   "execution_count": 2,
   "metadata": {},
   "outputs": [
    {
     "name": "stdout",
     "output_type": "stream",
     "text": [
      "Requirement already satisfied: openpyxl in /usr/local/python/3.10.4/lib/python3.10/site-packages (3.1.2)\n",
      "Requirement already satisfied: et-xmlfile in /usr/local/python/3.10.4/lib/python3.10/site-packages (from openpyxl) (1.1.0)\n",
      "Note: you may need to restart the kernel to use updated packages.\n"
     ]
    }
   ],
   "source": [
    "pip install openpyxl"
   ]
  },
  {
   "cell_type": "code",
   "execution_count": 3,
   "metadata": {},
   "outputs": [],
   "source": [
    "import pandas as pd\n",
    "import numpy as np\n",
    "import os\n",
    "import openpyxl"
   ]
  },
  {
   "cell_type": "code",
   "execution_count": 4,
   "metadata": {},
   "outputs": [
    {
     "name": "stdout",
     "output_type": "stream",
     "text": [
      "/workspaces/Product-inventory-analytics\n"
     ]
    }
   ],
   "source": [
    "print(os.getcwd())"
   ]
  },
  {
   "attachments": {},
   "cell_type": "markdown",
   "metadata": {},
   "source": [
    "## Проведем аналогичные преобразования"
   ]
  },
  {
   "cell_type": "code",
   "execution_count": 6,
   "metadata": {},
   "outputs": [],
   "source": [
    "Oststki = pd.read_excel('Остатки.xlsx', header=10)\n",
    "\n",
    "# Заменили пустые значения нулями\n",
    "Oststki = Oststki.fillna(0)\n",
    "\n",
    "Oststki.drop(columns = ['Unnamed: 1', 'Unnamed: 2', 'Unnamed: 3', 'Unnamed: 4'], axis=1, inplace = True)\n",
    "\n",
    "Oststki.rename(columns = {'Номенклатура, № по кат., Производитель':'Name', \n",
    "                          'Количество (в ед. хранения)':'Нач_ост_кол',\n",
    "                          'Сумма (в рег. валюте)':'Нач_ост_сумм',\n",
    "                          'Количество (в ед. хранения).1':'Приход_Кол',\n",
    "                          'Сумма (в рег. валюте).1':'Приход_Сумм',\n",
    "                          'Количество (в ед. хранения).2':'Расход_кол',\n",
    "                          'Сумма (в рег. валюте).2':'Расход_сумм',\n",
    "                          'Количество (в ед. хранения).3':'Кон_ост_кол',\n",
    "                          'Сумма (в рег. валюте).3':'Кон_ост_сумм',\n",
    "                          }, inplace = True )"
   ]
  },
  {
   "cell_type": "code",
   "execution_count": 7,
   "metadata": {},
   "outputs": [],
   "source": [
    "# Отберем данные для отдельной таблице по Угданскому Чатц\n",
    "start = Oststki.index [Oststki['Name']== \"Угданский ЧАТЦ  склад \" ]. tolist ()[0]\n",
    "end = Oststki.index [Oststki['Name']== \"Основной ЧАТЦ\" ]. tolist ()[0]"
   ]
  },
  {
   "cell_type": "code",
   "execution_count": 8,
   "metadata": {},
   "outputs": [],
   "source": [
    "# Функция для отбора только данным по Угданский Чатц\n",
    "list = [i for i in range(start, end+1)]\n",
    "Ugdan = Oststki.take(list, axis = 0)"
   ]
  },
  {
   "attachments": {},
   "cell_type": "markdown",
   "metadata": {},
   "source": [
    "## Анализ групп"
   ]
  },
  {
   "cell_type": "code",
   "execution_count": 9,
   "metadata": {},
   "outputs": [],
   "source": [
    "# Исключим из таблицы строки, где Name включает в себя ', ,'\n",
    "rule = [\", ,\"]\n",
    "rule_2 = [\"ЧАТЦ\"]\n",
    "Ugdan = Ugdan[~Ugdan.Name.str.contains('|'.join(rule))]\n",
    "Ugdan = Ugdan[~Ugdan.Name.str.contains('|'.join(rule_2))]"
   ]
  },
  {
   "cell_type": "code",
   "execution_count": 10,
   "metadata": {},
   "outputs": [
    {
     "data": {
      "text/html": [
       "<div>\n",
       "<style scoped>\n",
       "    .dataframe tbody tr th:only-of-type {\n",
       "        vertical-align: middle;\n",
       "    }\n",
       "\n",
       "    .dataframe tbody tr th {\n",
       "        vertical-align: top;\n",
       "    }\n",
       "\n",
       "    .dataframe thead th {\n",
       "        text-align: right;\n",
       "    }\n",
       "</style>\n",
       "<table border=\"1\" class=\"dataframe\">\n",
       "  <thead>\n",
       "    <tr style=\"text-align: right;\">\n",
       "      <th></th>\n",
       "      <th>Name</th>\n",
       "      <th>Нач_ост_кол</th>\n",
       "      <th>Нач_ост_сумм</th>\n",
       "      <th>Приход_Кол</th>\n",
       "      <th>Приход_Сумм</th>\n",
       "      <th>Расход_кол</th>\n",
       "      <th>Расход_сумм</th>\n",
       "      <th>Кон_ост_кол</th>\n",
       "      <th>Кон_ост_сумм</th>\n",
       "    </tr>\n",
       "  </thead>\n",
       "  <tbody>\n",
       "    <tr>\n",
       "      <th>8509</th>\n",
       "      <td>Шнур AUX (цветной) 3 м 16807, 16807,</td>\n",
       "      <td>1.0</td>\n",
       "      <td>82.00</td>\n",
       "      <td>0.0</td>\n",
       "      <td>0.00</td>\n",
       "      <td>1.0</td>\n",
       "      <td>82.00</td>\n",
       "      <td>0.0</td>\n",
       "      <td>0.0</td>\n",
       "    </tr>\n",
       "    <tr>\n",
       "      <th>8510</th>\n",
       "      <td>Шприц рычажно-плунжерный 500 мл БелАК БАК00019...</td>\n",
       "      <td>6.0</td>\n",
       "      <td>4070.88</td>\n",
       "      <td>7.0</td>\n",
       "      <td>5009.93</td>\n",
       "      <td>9.0</td>\n",
       "      <td>6217.41</td>\n",
       "      <td>4.0</td>\n",
       "      <td>2863.4</td>\n",
       "    </tr>\n",
       "    <tr>\n",
       "      <th>8511</th>\n",
       "      <td>Штeкepный paзъeм, abs Sampa 095159, 095159, Orex</td>\n",
       "      <td>0.0</td>\n",
       "      <td>0.00</td>\n",
       "      <td>2.0</td>\n",
       "      <td>1946.00</td>\n",
       "      <td>0.0</td>\n",
       "      <td>0.00</td>\n",
       "      <td>2.0</td>\n",
       "      <td>1946.0</td>\n",
       "    </tr>\n",
       "    <tr>\n",
       "      <th>8512</th>\n",
       "      <td>Эпоксидный клей усиленный AVS AVK-129 17922, 1...</td>\n",
       "      <td>3.0</td>\n",
       "      <td>369.00</td>\n",
       "      <td>4.0</td>\n",
       "      <td>764.00</td>\n",
       "      <td>7.0</td>\n",
       "      <td>1133.00</td>\n",
       "      <td>0.0</td>\n",
       "      <td>0.0</td>\n",
       "    </tr>\n",
       "    <tr>\n",
       "      <th>8513</th>\n",
       "      <td>Эпоксидный клей,универсальный, 6мл. ЭДП 24595,...</td>\n",
       "      <td>0.0</td>\n",
       "      <td>0.00</td>\n",
       "      <td>10.0</td>\n",
       "      <td>1270.00</td>\n",
       "      <td>2.0</td>\n",
       "      <td>254.00</td>\n",
       "      <td>8.0</td>\n",
       "      <td>1016.0</td>\n",
       "    </tr>\n",
       "  </tbody>\n",
       "</table>\n",
       "</div>"
      ],
      "text/plain": [
       "                                                   Name  Нач_ост_кол  \\\n",
       "8509              Шнур AUX (цветной) 3 м 16807, 16807,           1.0   \n",
       "8510  Шприц рычажно-плунжерный 500 мл БелАК БАК00019...          6.0   \n",
       "8511   Штeкepный paзъeм, abs Sampa 095159, 095159, Orex          0.0   \n",
       "8512  Эпоксидный клей усиленный AVS AVK-129 17922, 1...          3.0   \n",
       "8513  Эпоксидный клей,универсальный, 6мл. ЭДП 24595,...          0.0   \n",
       "\n",
       "      Нач_ост_сумм  Приход_Кол  Приход_Сумм  Расход_кол  Расход_сумм  \\\n",
       "8509         82.00         0.0         0.00         1.0        82.00   \n",
       "8510       4070.88         7.0      5009.93         9.0      6217.41   \n",
       "8511          0.00         2.0      1946.00         0.0         0.00   \n",
       "8512        369.00         4.0       764.00         7.0      1133.00   \n",
       "8513          0.00        10.0      1270.00         2.0       254.00   \n",
       "\n",
       "      Кон_ост_кол  Кон_ост_сумм  \n",
       "8509          0.0           0.0  \n",
       "8510          4.0        2863.4  \n",
       "8511          2.0        1946.0  \n",
       "8512          0.0           0.0  \n",
       "8513          8.0        1016.0  "
      ]
     },
     "execution_count": 10,
     "metadata": {},
     "output_type": "execute_result"
    }
   ],
   "source": [
    "Ugdan.tail()"
   ]
  },
  {
   "attachments": {},
   "cell_type": "markdown",
   "metadata": {},
   "source": [
    "### Информация по группам"
   ]
  },
  {
   "cell_type": "code",
   "execution_count": 11,
   "metadata": {},
   "outputs": [],
   "source": [
    "# Группа 1\n",
    "\n",
    "Count_group_1 = Ugdan.query('Приход_Кол == 0 and Расход_кол == 0')['Name'].count()\n",
    "Sum_group_1 = Ugdan.query('Приход_Кол == 0 and Расход_кол == 0')['Кон_ост_сумм'].sum()\n",
    "\n",
    "Count_group_1_5 = Ugdan.query('Приход_Кол == 0 and Расход_кол == 0 and (Кон_ост_сумм/Кон_ост_кол) > 5000')['Name'].count()\n",
    "Sum_group_1_5 = Ugdan.query('Приход_Кол == 0 and Расход_кол == 0 and (Кон_ост_сумм/Кон_ост_кол) > 5000')['Кон_ост_сумм'].sum()\n",
    "\n",
    "Count_group_1_10 = Ugdan.query('Приход_Кол == 0 and Расход_кол == 0 and (Кон_ост_сумм/Кон_ост_кол) > 10000')['Name'].count()\n",
    "Sum_group_1_10 = Ugdan.query('Приход_Кол == 0 and Расход_кол == 0 and (Кон_ост_сумм/Кон_ост_кол) > 10000')['Кон_ост_сумм'].sum()"
   ]
  },
  {
   "cell_type": "code",
   "execution_count": 12,
   "metadata": {},
   "outputs": [],
   "source": [
    "# Группа 2\n",
    "Count_group_2 = Ugdan.query('Нач_ост_сумм > 0 and Приход_Сумм > 0 and Расход_сумм == 0')['Name'].count()\n",
    "Sum_group_2 = Ugdan.query('Нач_ост_сумм > 0 and Приход_Сумм > 0 and Расход_сумм == 0')['Кон_ост_сумм'].sum()\n",
    "\n",
    "# Группа 3\n",
    "Count_group_3 = Ugdan.query('Нач_ост_сумм > 0 and Расход_сумм > 0 and Кон_ост_кол > Расход_кол')['Name'].count()\n",
    "Sum_group_3 = Ugdan.query('Нач_ост_сумм > 0 and Расход_сумм > 0 and Кон_ост_кол > Расход_кол')['Кон_ост_сумм'].sum()\n",
    "\n",
    "# Группа 4\n",
    "Count_group_4 = Ugdan.query('Нач_ост_сумм == 0 and  Приход_Сумм > 0 and Расход_сумм == 0')['Name'].count()\n",
    "Sum_group_4 = Ugdan.query('Нач_ост_сумм == 0 and  Приход_Сумм > 0 and Расход_сумм == 0')['Кон_ост_сумм'].sum()\n",
    "\n",
    "# Группа 5\n",
    "Count_group_5 = Ugdan.query('Расход_кол >=3 and Кон_ост_кол == 0')['Name'].count()\n",
    "Sum_group_5 = Ugdan.query('Расход_кол >=3 and Кон_ост_кол == 0')['Расход_сумм'].sum()"
   ]
  },
  {
   "cell_type": "code",
   "execution_count": 13,
   "metadata": {},
   "outputs": [
    {
     "data": {
      "text/html": [
       "<div>\n",
       "<style scoped>\n",
       "    .dataframe tbody tr th:only-of-type {\n",
       "        vertical-align: middle;\n",
       "    }\n",
       "\n",
       "    .dataframe tbody tr th {\n",
       "        vertical-align: top;\n",
       "    }\n",
       "\n",
       "    .dataframe thead th {\n",
       "        text-align: right;\n",
       "    }\n",
       "</style>\n",
       "<table border=\"1\" class=\"dataframe\">\n",
       "  <thead>\n",
       "    <tr style=\"text-align: right;\">\n",
       "      <th></th>\n",
       "      <th>Сколько позиций.</th>\n",
       "      <th>Сумма.</th>\n",
       "    </tr>\n",
       "    <tr>\n",
       "      <th>Наименование</th>\n",
       "      <th></th>\n",
       "      <th></th>\n",
       "    </tr>\n",
       "  </thead>\n",
       "  <tbody>\n",
       "    <tr>\n",
       "      <th>группа 1- \"Мертвый\" склад</th>\n",
       "      <td>540</td>\n",
       "      <td>2244497.02</td>\n",
       "    </tr>\n",
       "    <tr>\n",
       "      <th>группа 1 - свыше 5 тыс</th>\n",
       "      <td>79</td>\n",
       "      <td>840545.93</td>\n",
       "    </tr>\n",
       "    <tr>\n",
       "      <th>группа 1 - свыше 10 тыс</th>\n",
       "      <td>25</td>\n",
       "      <td>370146.40</td>\n",
       "    </tr>\n",
       "    <tr>\n",
       "      <th>группа 2 - Бестолковые закупки</th>\n",
       "      <td>3</td>\n",
       "      <td>17927.73</td>\n",
       "    </tr>\n",
       "    <tr>\n",
       "      <th>группа 3 - Излишние запасы</th>\n",
       "      <td>138</td>\n",
       "      <td>627833.31</td>\n",
       "    </tr>\n",
       "    <tr>\n",
       "      <th>группа 4 - Проверка спроса</th>\n",
       "      <td>142</td>\n",
       "      <td>800914.26</td>\n",
       "    </tr>\n",
       "    <tr>\n",
       "      <th>группа 5 - Нет ходового товара</th>\n",
       "      <td>142</td>\n",
       "      <td>891477.19</td>\n",
       "    </tr>\n",
       "  </tbody>\n",
       "</table>\n",
       "</div>"
      ],
      "text/plain": [
       "                                Сколько позиций.      Сумма.\n",
       "Наименование                                                \n",
       "группа 1- \"Мертвый\" склад                    540  2244497.02\n",
       "группа 1 - свыше 5 тыс                        79   840545.93\n",
       "группа 1 - свыше 10 тыс                       25   370146.40\n",
       "группа 2 - Бестолковые закупки                 3    17927.73\n",
       "группа 3 - Излишние запасы                   138   627833.31\n",
       "группа 4 - Проверка спроса                   142   800914.26\n",
       "группа 5 - Нет ходового товара               142   891477.19"
      ]
     },
     "execution_count": 13,
     "metadata": {},
     "output_type": "execute_result"
    }
   ],
   "source": [
    "groups = pd.DataFrame({'Наименование': ['группа 1- \"Мертвый\" склад', 'группа 1 - свыше 5 тыс', 'группа 1 - свыше 10 тыс', 'группа 2 - Бестолковые закупки', 'группа 3 - Излишние запасы', 'группа 4 - Проверка спроса', 'группа 5 - Нет ходового товара'], \n",
    "                    'Сколько позиций.': [Count_group_1, Count_group_1_5, Count_group_1_10, Count_group_2, Count_group_3, Count_group_4, Count_group_5], \n",
    "                    'Сумма.': [Sum_group_1, Sum_group_1_5, Sum_group_1_10, Sum_group_2, Sum_group_3, Sum_group_4, Sum_group_5]})\n",
    "groups = groups.set_index('Наименование').round(2)\n",
    "\n",
    "groups"
   ]
  },
  {
   "attachments": {},
   "cell_type": "markdown",
   "metadata": {},
   "source": [
    "## Создадим отдельные таблицы для более датального просмотра товарных позиций"
   ]
  },
  {
   "cell_type": "code",
   "execution_count": 14,
   "metadata": {},
   "outputs": [],
   "source": [
    "Group_1 = Ugdan.query('Приход_Кол == 0 and Расход_кол == 0')\n",
    "Group_1_5 = Ugdan.query('Приход_Кол == 0 and Расход_кол == 0 and (Кон_ост_сумм/Кон_ост_кол) > 5000')\n",
    "Group_1_10 = Ugdan.query('Приход_Кол == 0 and Расход_кол == 0 and (Кон_ост_сумм/Кон_ост_кол) > 10000')\n",
    "\n",
    "Group_2 = Ugdan.query('Нач_ост_сумм > 0 and Приход_Сумм > 0 and Расход_сумм == 0')\n",
    "Group_3 = Ugdan.query('Нач_ост_сумм > 0 and Расход_сумм > 0 and Кон_ост_сумм > Расход_сумм')\n",
    "Group_4 = Ugdan.query('Нач_ост_сумм == 0 and  Приход_Сумм > 0 and Расход_сумм == 0')\n",
    "Group_5 = Ugdan.query('Расход_кол >=3 and Кон_ост_кол == 0')"
   ]
  },
  {
   "attachments": {},
   "cell_type": "markdown",
   "metadata": {},
   "source": [
    "# Выгрузка итоговой таблицы"
   ]
  },
  {
   "cell_type": "code",
   "execution_count": 15,
   "metadata": {},
   "outputs": [],
   "source": [
    "# Отредактируем файл Metrics для добавления обновленных листов\n",
    "wb = openpyxl.load_workbook('Metrics.xlsx') "
   ]
  },
  {
   "cell_type": "code",
   "execution_count": 16,
   "metadata": {},
   "outputs": [
    {
     "name": "stdout",
     "output_type": "stream",
     "text": [
      "['Sheet1']\n"
     ]
    }
   ],
   "source": [
    "sheet = wb.sheetnames\n",
    "print(sheet)"
   ]
  },
  {
   "cell_type": "code",
   "execution_count": null,
   "metadata": {},
   "outputs": [],
   "source": [
    "with pd.ExcelWriter('Metrics.xlsx', mode='a', if_sheet_exists= 'replace') as writer:  \n",
    "    Group_1.to_excel(writer, sheet_name='Группа 1',index = False)\n",
    "    Group_1_5.to_excel(writer, sheet_name='Группа 1 (>5)',index = False)\n",
    "    Group_1_10.to_excel(writer, sheet_name='Группа 1 (>10)',index = False)\n",
    "    Group_2.to_excel(writer, sheet_name='Группа 2',index = False)\n",
    "    Group_3.to_excel(writer, sheet_name='Группа 3',index = False)\n",
    "    Group_4.to_excel(writer, sheet_name='Группа 4',index = False)\n",
    "    Group_5.to_excel(writer, sheet_name='Группа 5',index = False)"
   ]
  },
  {
   "cell_type": "code",
   "execution_count": null,
   "metadata": {},
   "outputs": [],
   "source": []
  },
  {
   "cell_type": "code",
   "execution_count": null,
   "metadata": {},
   "outputs": [],
   "source": []
  }
 ],
 "metadata": {
  "kernelspec": {
   "display_name": "Python 3 (ipykernel)",
   "language": "python",
   "name": "python3"
  },
  "language_info": {
   "codemirror_mode": {
    "name": "ipython",
    "version": 3
   },
   "file_extension": ".py",
   "mimetype": "text/x-python",
   "name": "python",
   "nbconvert_exporter": "python",
   "pygments_lexer": "ipython3",
   "version": "3.10.4"
  },
  "orig_nbformat": 4
 },
 "nbformat": 4,
 "nbformat_minor": 2
}
