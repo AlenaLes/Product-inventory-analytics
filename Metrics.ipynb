{
 "cells": [
  {
   "cell_type": "code",
   "execution_count": null,
   "metadata": {},
   "outputs": [],
   "source": [
    "pip install openpyxl"
   ]
  },
  {
   "cell_type": "code",
   "execution_count": null,
   "metadata": {},
   "outputs": [],
   "source": [
    "import pandas as pd\n",
    "import numpy as np\n",
    "import os\n",
    "import openpyxl"
   ]
  },
  {
   "cell_type": "code",
   "execution_count": null,
   "metadata": {},
   "outputs": [],
   "source": [
    "print(os.getcwd())"
   ]
  },
  {
   "cell_type": "code",
   "execution_count": null,
   "metadata": {},
   "outputs": [],
   "source": [
    "Oststki = pd.read_excel('Остатки.xlsx', header=10)\n",
    "\n",
    "# Заменили пустые значения нулями\n",
    "Oststki = Oststki.fillna(0)"
   ]
  },
  {
   "cell_type": "code",
   "execution_count": null,
   "metadata": {},
   "outputs": [],
   "source": [
    "# Убираем ненужные столбцы\n",
    "Oststki.drop(columns = ['Unnamed: 1', 'Unnamed: 2', 'Unnamed: 3', 'Unnamed: 4'], axis=1, inplace = True)\n",
    "\n",
    "# переименуем колонки\n",
    "Oststki.rename(columns = {'Номенклатура, № по кат., Производитель':'Name', \n",
    "                          'Количество (в ед. хранения)':'Нач_ост_кол',\n",
    "                          'Сумма (в рег. валюте)':'Нач_ост_сумм',\n",
    "                          'Количество (в ед. хранения).1':'Приход_Кол',\n",
    "                          'Сумма (в рег. валюте).1':'Приход_Сумм',\n",
    "                          'Количество (в ед. хранения).2':'Расход_кол',\n",
    "                          'Сумма (в рег. валюте).2':'Расход_сумм',\n",
    "                          'Количество (в ед. хранения).3':'Кон_ост_кол',\n",
    "                          'Сумма (в рег. валюте).3':'Кон_ост_сумм',\n",
    "                          }, inplace = True )\n",
    "\n",
    "Oststki.head(10)"
   ]
  },
  {
   "attachments": {},
   "cell_type": "markdown",
   "metadata": {},
   "source": [
    "# Угданский ЧАТЦ"
   ]
  },
  {
   "cell_type": "code",
   "execution_count": null,
   "metadata": {},
   "outputs": [],
   "source": [
    "# Отберем данные для отдельной таблице по Угданскому Чатц\n",
    "start = Oststki.index [Oststki['Name']== \"Угданский ЧАТЦ  склад \" ]. tolist ()[0]\n",
    "end = Oststki.index [Oststki['Name']== \"Основной ЧАТЦ\" ]. tolist ()[0]"
   ]
  },
  {
   "cell_type": "code",
   "execution_count": null,
   "metadata": {},
   "outputs": [],
   "source": [
    "# Функция для отбора только данным по Угданский Чатц\n",
    "list = [i for i in range(start, end+1)]\n",
    "Ugdan = Oststki.take(list, axis = 0)"
   ]
  },
  {
   "cell_type": "code",
   "execution_count": null,
   "metadata": {},
   "outputs": [],
   "source": [
    "Ugdan.tail()"
   ]
  },
  {
   "attachments": {},
   "cell_type": "markdown",
   "metadata": {},
   "source": [
    "## Данные (масла)"
   ]
  },
  {
   "cell_type": "code",
   "execution_count": null,
   "metadata": {},
   "outputs": [],
   "source": [
    "# Отберем данные для отдельной таблицы по Угданскому Чатц по маслам\n",
    "start_oil = Ugdan.index [Ugdan['Name']== \"Угданский ЧАТЦ  склад \" ]. tolist ()[0]\n",
    "end_oil = Ugdan.index [Ugdan['Name']== \"Материалы, , \" ]. tolist ()[0]\n",
    "\n",
    "list_oil = [i for i in range(start_oil - start, end_oil-start)]\n",
    "\n",
    "Ugdan_oil = Ugdan.take(list_oil, axis = 0)\n",
    "\n",
    "# Исключим из таблицы строки, где Name включает в себя ', ,'\n",
    "rule = [\", ,\"]\n",
    "Ugdan_oil = Ugdan_oil[~Ugdan_oil.Name.str.contains('|'.join(rule))]\n",
    "\n",
    "# Уберем ненужные строки\n",
    "Ugdan_oil = Ugdan_oil.query(\"Name not in ['Угданский ЧАТЦ  склад ']\")\n",
    "\n",
    "Ugdan_oil.tail()"
   ]
  },
  {
   "cell_type": "code",
   "execution_count": null,
   "metadata": {},
   "outputs": [],
   "source": [
    "# Подсчитаем нужные метрики\n",
    "\n",
    "Quanity_oil = Ugdan_oil['Кон_ост_кол'].sum()\n",
    "Sum_oil = Ugdan_oil['Кон_ост_сумм'].sum()\n",
    "Sales_oil = Ugdan_oil['Расход_кол'].sum()\n",
    "Sales_sum_oil = Ugdan_oil['Расход_сумм'].sum()\n",
    "Sum_begin_oil = Ugdan_oil['Нач_ост_сумм'].sum()"
   ]
  },
  {
   "attachments": {},
   "cell_type": "markdown",
   "metadata": {},
   "source": [
    "## Данные (товары и запчасти)"
   ]
  },
  {
   "cell_type": "code",
   "execution_count": null,
   "metadata": {},
   "outputs": [],
   "source": [
    "start_prod = Ugdan.index [Ugdan['Name']== \"Материалы, , \" ]. tolist ()[0]\n",
    "end_prod = Ugdan.index [Ugdan['Name']== \"Основной ЧАТЦ\" ]. tolist ()[0]\n",
    "\n",
    "list_prod = [i for i in range(start_prod-start, end_prod-start)]\n",
    "\n",
    "Ugdan_prod = Ugdan.take(list_prod, axis = 0)\n",
    "\n",
    "# Исключим из таблицы строки, где Name включает в себя ', ,'\n",
    "rule = [\", ,\"]\n",
    "Ugdan_prod = Ugdan_prod[~Ugdan_prod.Name.str.contains('|'.join(rule))]\n",
    "\n",
    "Ugdan_prod.tail()"
   ]
  },
  {
   "cell_type": "code",
   "execution_count": null,
   "metadata": {},
   "outputs": [],
   "source": [
    "# Подсчитаем нужные метрики\n",
    "\n",
    "Quanity_prod = Ugdan_prod['Кон_ост_кол'].sum()\n",
    "Sum_prod = Ugdan_prod['Кон_ост_сумм'].sum()\n",
    "Sales_prod = Ugdan_prod['Расход_кол'].sum()\n",
    "Sales_sum_prod = Ugdan_prod['Расход_сумм'].sum()\n",
    "Sum_begin_prod = Ugdan_prod['Нач_ост_сумм'].sum()"
   ]
  },
  {
   "attachments": {},
   "cell_type": "markdown",
   "metadata": {},
   "source": [
    "# Итоговые значения по метрикам"
   ]
  },
  {
   "cell_type": "code",
   "execution_count": null,
   "metadata": {},
   "outputs": [],
   "source": [
    "metrics = pd.DataFrame({'Склад': ['Угданский - масло', 'Угданский - запасные части', 'Итого', 'Продажи за ГОД в ценах с/с', 'Коэфф. оборачиваемости товара'], \n",
    "                    'Шт.': [Quanity_oil, Quanity_prod, Quanity_oil+Quanity_prod, Sales_oil+Sales_prod, '0'], \n",
    "                    'Сумма.': [Sum_oil, Sum_prod, Sum_oil+Sum_prod, Sales_sum_oil+Sales_sum_prod, (Sales_sum_oil+Sales_sum_prod)/((Sum_begin_oil+Sum_begin_prod+Sum_prod+Sum_oil)/2)]})\n",
    "metrics = metrics.set_index('Склад').round(2)\n",
    "\n",
    "metrics"
   ]
  },
  {
   "cell_type": "code",
   "execution_count": null,
   "metadata": {},
   "outputs": [],
   "source": [
    "metrics.to_excel ('Metrics.xlsx')"
   ]
  },
  {
   "cell_type": "code",
   "execution_count": null,
   "metadata": {},
   "outputs": [],
   "source": []
  }
 ],
 "metadata": {
  "kernelspec": {
   "display_name": "Python 3",
   "language": "python",
   "name": "python3"
  },
  "language_info": {
   "codemirror_mode": {
    "name": "ipython",
    "version": 3
   },
   "file_extension": ".py",
   "mimetype": "text/x-python",
   "name": "python",
   "nbconvert_exporter": "python",
   "pygments_lexer": "ipython3",
   "version": "3.10.4"
  },
  "orig_nbformat": 4
 },
 "nbformat": 4,
 "nbformat_minor": 2
}
