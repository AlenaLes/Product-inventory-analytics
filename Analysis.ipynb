{
 "cells": [
  {
   "cell_type": "code",
   "execution_count": 1,
   "metadata": {},
   "outputs": [
    {
     "name": "stdout",
     "output_type": "stream",
     "text": [
      "Collecting openpyxl\n",
      "  Downloading openpyxl-3.1.2-py2.py3-none-any.whl (249 kB)\n",
      "\u001b[2K     \u001b[90m━━━━━━━━━━━━━━━━━━━━━━━━━━━━━━━━━━━━━━━\u001b[0m \u001b[32m250.0/250.0 kB\u001b[0m \u001b[31m3.7 MB/s\u001b[0m eta \u001b[36m0:00:00\u001b[0m00:01\u001b[0m\n",
      "\u001b[?25hCollecting et-xmlfile\n",
      "  Downloading et_xmlfile-1.1.0-py3-none-any.whl (4.7 kB)\n",
      "Installing collected packages: et-xmlfile, openpyxl\n",
      "Successfully installed et-xmlfile-1.1.0 openpyxl-3.1.2\n",
      "\n",
      "\u001b[1m[\u001b[0m\u001b[34;49mnotice\u001b[0m\u001b[1;39;49m]\u001b[0m\u001b[39;49m A new release of pip is available: \u001b[0m\u001b[31;49m23.0.1\u001b[0m\u001b[39;49m -> \u001b[0m\u001b[32;49m23.1\u001b[0m\n",
      "\u001b[1m[\u001b[0m\u001b[34;49mnotice\u001b[0m\u001b[1;39;49m]\u001b[0m\u001b[39;49m To update, run: \u001b[0m\u001b[32;49mpython -m pip install --upgrade pip\u001b[0m\n",
      "Note: you may need to restart the kernel to use updated packages.\n"
     ]
    }
   ],
   "source": [
    "pip install openpyxl"
   ]
  },
  {
   "cell_type": "code",
   "execution_count": 2,
   "metadata": {},
   "outputs": [],
   "source": [
    "import pandas as pd\n",
    "import numpy as np\n",
    "import os\n",
    "import openpyxl\n",
    "\n",
    "from openpyxl import Workbook\n",
    "from openpyxl.worksheet.filters import (FilterColumn, CustomFilter, CustomFilters, DateGroupItem, Filters)\n",
    "from openpyxl.worksheet.table import Table, TableStyleInfo\n",
    "from openpyxl.styles import NamedStyle, Font, Border, Side, Alignment\n",
    "from openpyxl.utils.cell import get_column_letter"
   ]
  },
  {
   "cell_type": "code",
   "execution_count": 3,
   "metadata": {},
   "outputs": [
    {
     "name": "stdout",
     "output_type": "stream",
     "text": [
      "/workspaces/Product-inventory-analytics\n"
     ]
    }
   ],
   "source": [
    "print(os.getcwd())"
   ]
  },
  {
   "attachments": {},
   "cell_type": "markdown",
   "metadata": {},
   "source": [
    "# Задаем функции для дальнейшего использования"
   ]
  },
  {
   "cell_type": "code",
   "execution_count": 4,
   "metadata": {},
   "outputs": [],
   "source": [
    "def create_table(File):                 # Фукнция для создания таблицы\n",
    "    itog.to_excel (File)\n",
    "\n",
    "    wb = openpyxl.load_workbook(File)   # Исправляем наименование первого листа\n",
    "    ws = wb.active\n",
    "    ws.title  = \"Итог\"\n",
    "\n",
    "    wb.save(File)\n",
    "\n",
    "def groups(table, File):                # Функция для подсчета групп и добавления второго листа \"Расшифровка\"\n",
    "\n",
    "    all = {}\n",
    "    # Инфа по Группе 1 + (> 5 т.р.) + (> 10 т.р.)\n",
    "    all['Count_1'] = table.query('Приход_Кол == 0 and Расход_кол == 0')['Name'].count()\n",
    "    all['Sum_1'] = table.query('Приход_Кол == 0 and Расход_кол == 0')['Кон_ост_сумм'].sum()\n",
    "\n",
    "    all['Count_1_5'] = table.query('Приход_Кол == 0 and Расход_кол == 0 and (Кон_ост_сумм/Кон_ост_кол) > 5000')['Name'].count()\n",
    "    all['Sum_1_5'] = table.query('Приход_Кол == 0 and Расход_кол == 0 and (Кон_ост_сумм/Кон_ост_кол) > 5000')['Кон_ост_сумм'].sum()\n",
    "\n",
    "    all['Count_1_10'] = table.query('Приход_Кол == 0 and Расход_кол == 0 and (Кон_ост_сумм/Кон_ост_кол) > 10000')['Name'].count()\n",
    "    all['Sum_1_10'] = table.query('Приход_Кол == 0 and Расход_кол == 0 and (Кон_ост_сумм/Кон_ост_кол) > 10000')['Кон_ост_сумм'].sum()\n",
    "\n",
    "    # Инфа по группе 2\n",
    "    all['Count_2'] = table.query('Нач_ост_сумм > 0 and Приход_Сумм > 0 and Расход_сумм == 0')['Name'].count()\n",
    "    all['Sum_2'] = table.query('Нач_ост_сумм > 0 and Приход_Сумм > 0 and Расход_сумм == 0')['Кон_ост_сумм'].sum()\n",
    "\n",
    "    # Инфа по группе 3\n",
    "    all['Count_3'] = table.query('Нач_ост_сумм > 0 and Расход_сумм > 0 and Кон_ост_кол > Расход_кол')['Name'].count()\n",
    "    all['Sum_3'] = table.query('Нач_ост_сумм > 0 and Расход_сумм > 0 and Кон_ост_кол > Расход_кол')['Кон_ост_сумм'].sum()\n",
    "\n",
    "    # Инфа по группе 4\n",
    "    all['Count_4'] = table.query('Нач_ост_сумм == 0 and  Приход_Сумм > 0 and Расход_сумм == 0')['Name'].count()\n",
    "    all['Sum_4'] = table.query('Нач_ост_сумм == 0 and  Приход_Сумм > 0 and Расход_сумм == 0')['Кон_ост_сумм'].sum()\n",
    "\n",
    "    # Инфа по группе 5\n",
    "    all['Count_5'] = table.query('Расход_кол >=3 and Кон_ост_кол == 0')['Name'].count()\n",
    "    all['Sum_5'] = table.query('Расход_кол >=3 and Кон_ост_кол == 0')['Расход_сумм'].sum()\n",
    "    \n",
    "    decoding = pd.DataFrame({'Наименование': ['группа 1- \"Мертвый\" склад', 'группа 1 - свыше 5 тыс', 'группа 1 - свыше 10 тыс', \n",
    "                                              'группа 2 - Бестолковые закупки', 'группа 3 - Излишние запасы', 'группа 4 - Проверка спроса', 'группа 5 - Нет ходового товара'], \n",
    "                    'Сколько позиций.': [all['Count_1'], all['Count_1_5'], all['Count_1_10'], all['Count_2'], all['Count_3'], all['Count_4'], all['Count_5']], \n",
    "                    'Сумма.': [all['Sum_1'], all['Sum_1_5'], all['Sum_1_10'], all['Sum_2'], all['Sum_3'], all['Sum_4'], all['Sum_5']]})\n",
    "    decoding = decoding.set_index('Наименование').round(2)  \n",
    "\n",
    "    with pd.ExcelWriter(File, mode='a', if_sheet_exists= 'replace') as writer:      # Вносим информацию в лист\n",
    "        decoding.to_excel(writer, sheet_name='Расшифровка',index = True)\n",
    "\n",
    "def add_groups(table, File):                                                        # Функция для созданяия инфы по группам и внесения в excel листов по группам\n",
    "\n",
    "    Group_1 = table.query('Приход_Кол == 0 and Расход_кол == 0')\n",
    "    Group_1_5 = table.query('Приход_Кол == 0 and Расход_кол == 0 and (Кон_ост_сумм/Кон_ост_кол) > 5000')\n",
    "    Group_1_10 = table.query('Приход_Кол == 0 and Расход_кол == 0 and (Кон_ост_сумм/Кон_ост_кол) > 10000')\n",
    "\n",
    "    Group_2 = table.query('Нач_ост_сумм > 0 and Приход_Сумм > 0 and Расход_сумм == 0')\n",
    "    Group_3 = table.query('Нач_ост_сумм > 0 and Расход_сумм > 0 and Кон_ост_сумм > Расход_сумм')\n",
    "    Group_4 = table.query('Нач_ост_сумм == 0 and  Приход_Сумм > 0 and Расход_сумм == 0')\n",
    "    Group_5 = table.query('Расход_кол >=3 and Кон_ост_кол == 0')\n",
    "\n",
    "    wb = openpyxl.load_workbook(File)\n",
    "\n",
    "    with pd.ExcelWriter(File, mode='a', if_sheet_exists= 'replace') as writer:  \n",
    "        Group_1.to_excel(writer, sheet_name='Группа 1',index = False)\n",
    "        Group_1_5.to_excel(writer, sheet_name='Группа 1 (>5)',index = False)\n",
    "        Group_1_10.to_excel(writer, sheet_name='Группа 1 (>10)',index = False)\n",
    "        Group_2.to_excel(writer, sheet_name='Группа 2',index = False)\n",
    "        Group_3.to_excel(writer, sheet_name='Группа 3',index = False)\n",
    "        Group_4.to_excel(writer, sheet_name='Группа 4',index = False)\n",
    "        Group_5.to_excel(writer, sheet_name='Группа 5',index = False) "
   ]
  },
  {
   "cell_type": "code",
   "execution_count": 5,
   "metadata": {},
   "outputs": [],
   "source": [
    "# Оформление таблиц\n",
    "def decor_file(File):                                             # Функция для  добавления всех таблиц в Exel\n",
    "\n",
    "    wb = openpyxl.load_workbook(File) \n",
    "\n",
    "    for sheet in wb:                                              # для всех листов изменим ширину первого столбца\n",
    "        if sheet.title in ['Итог', 'Расшифровка']:\n",
    "            sheet.column_dimensions[\"A\"].width = 30\n",
    "        else:\n",
    "            sheet.column_dimensions[\"A\"].width = 60 \n",
    "        for i in range(2, 10):                                    # для всех листов изменим ширину столбцов 2-9 \n",
    "            letter = get_column_letter(i)                         # преобразовываем индекс столбца в его букву\n",
    "            sheet.column_dimensions[letter].width = 18            # получаем ширину столбца\n",
    "            sheet.freeze_panes = 'A2'\n",
    "\n",
    "    ws = wb[\"Итог\"]\n",
    "    ws.column_dimensions[\"A\"].width = 33\n",
    "    for cell in ws[\"C2:C5\"]:\n",
    "        cell[0].style = 'Comma'\n",
    "        cell[0].font = Font(size=11)\n",
    "        cell[0].alignment = Alignment(horizontal='right')\n",
    "\n",
    "    ws = wb[\"Расшифровка\"]\n",
    "    ws.column_dimensions[\"A\"].width = 33\n",
    "    for cell in ws[\"C2:C8\"]:\n",
    "        cell[0].style = 'Comma'\n",
    "        cell[0].font = Font(size=11)\n",
    "        cell[0].alignment = Alignment(horizontal='right')\n",
    "    wb.save(File)"
   ]
  },
  {
   "cell_type": "code",
   "execution_count": 7,
   "metadata": {},
   "outputs": [],
   "source": [
    "Oststki = pd.read_excel('Остатки.xlsx', header=10)\n",
    "\n",
    "# Заменили пустые значения нулями\n",
    "Oststki = Oststki.fillna(0)\n",
    "\n",
    "# Убираем ненужные столбцы\n",
    "# Oststki.drop(columns = ['Unnamed: 1', 'Unnamed: 2', 'Unnamed: 3', 'Unnamed: 4', 'Комментарии', 'остаток > расхода', 'стоимость за 1 ед'], axis=1, inplace = True)\n",
    "Oststki.drop(columns = ['Unnamed: 1', 'Unnamed: 2', 'Unnamed: 3', 'Unnamed: 4'], axis=1, inplace = True)\n",
    "\n",
    "Oststki.rename(columns = {'Номенклатура, № по кат., Производитель':'Name', \n",
    "                          'Количество (в ед. хранения)':'Нач_ост_кол',\n",
    "                          'Сумма (в рег. валюте)':'Нач_ост_сумм',\n",
    "                          'Количество (в ед. хранения).1':'Приход_Кол',\n",
    "                          'Сумма (в рег. валюте).1':'Приход_Сумм',\n",
    "                          'Количество (в ед. хранения).2':'Расход_кол',\n",
    "                          'Сумма (в рег. валюте).2':'Расход_сумм',\n",
    "                          'Количество (в ед. хранения).3':'Кон_ост_кол',\n",
    "                          'Сумма (в рег. валюте).3':'Кон_ост_сумм',\n",
    "                          }, inplace = True )"
   ]
  },
  {
   "attachments": {},
   "cell_type": "markdown",
   "metadata": {},
   "source": [
    "# Угданский ЧАТЦ"
   ]
  },
  {
   "cell_type": "code",
   "execution_count": 8,
   "metadata": {},
   "outputs": [],
   "source": [
    "# Отберем данные для отдельной таблицы по Угданскому Чатц\n",
    "start = Oststki.index [Oststki['Name']== \"Угданский ЧАТЦ  склад \" ]. tolist ()[0]\n",
    "end = Oststki.index [Oststki['Name']== \"Основной ЧАТЦ\" ]. tolist ()[0]\n",
    "\n",
    "# Функция для отбора только данным по Угданский Чатц\n",
    "list = [i for i in range(start, end+1)]\n",
    "Ugdan = Oststki.take(list, axis = 0)"
   ]
  },
  {
   "attachments": {},
   "cell_type": "markdown",
   "metadata": {},
   "source": [
    "## Данные (масла)"
   ]
  },
  {
   "cell_type": "code",
   "execution_count": 9,
   "metadata": {},
   "outputs": [],
   "source": [
    "# Отберем данные для отдельной таблицы по Угданскому Чатц по маслам\n",
    "start_oil = Ugdan.index [Ugdan['Name']== \"Угданский ЧАТЦ  склад \" ]. tolist ()[0]\n",
    "end_oil = Ugdan.index [Ugdan['Name']== \"Материалы, , \" ]. tolist ()[0]\n",
    "\n",
    "list_oil = [i for i in range(start_oil - start, end_oil-start)]\n",
    "\n",
    "Ugdan_oil = Ugdan.take(list_oil, axis = 0)\n",
    "\n",
    "# Исключим из таблицы строки, где Name включает в себя ', ,'\n",
    "rule = [\", ,\"]\n",
    "Ugdan_oil = Ugdan_oil[~Ugdan_oil.Name.str.contains('|'.join(rule))]\n",
    "\n",
    "# Уберем ненужные строки\n",
    "Ugdan_oil = Ugdan_oil.query(\"Name not in ['Угданский ЧАТЦ  склад ']\")\n",
    "# Подсчитаем нужные метрики\n",
    "Quanity_oil = Ugdan_oil['Кон_ост_кол'].sum()\n",
    "Sum_oil = Ugdan_oil['Кон_ост_сумм'].sum()\n",
    "Sales_oil = Ugdan_oil['Расход_кол'].sum()\n",
    "Sales_sum_oil = Ugdan_oil['Расход_сумм'].sum()\n",
    "Sum_begin_oil = Ugdan_oil['Нач_ост_сумм'].sum()"
   ]
  },
  {
   "attachments": {},
   "cell_type": "markdown",
   "metadata": {},
   "source": [
    "## Данные (товары и запчасти)"
   ]
  },
  {
   "cell_type": "code",
   "execution_count": 10,
   "metadata": {},
   "outputs": [],
   "source": [
    "start_prod = Ugdan.index [Ugdan['Name']== \"Материалы, , \" ]. tolist ()[0]\n",
    "end_prod = Ugdan.index [Ugdan['Name']== \"Основной ЧАТЦ\" ]. tolist ()[0]\n",
    "\n",
    "list_prod = [i for i in range(start_prod-start, end_prod-start)]\n",
    "\n",
    "Ugdan_prod = Ugdan.take(list_prod, axis = 0)\n",
    "\n",
    "# Исключим из таблицы строки, где Name включает в себя ', ,'\n",
    "rule = [\", ,\"]\n",
    "Ugdan_prod = Ugdan_prod[~Ugdan_prod.Name.str.contains('|'.join(rule))]\n",
    "# Подсчитаем нужные метрики\n",
    "Quanity_prod = Ugdan_prod['Кон_ост_кол'].sum()\n",
    "Sum_prod = Ugdan_prod['Кон_ост_сумм'].sum()\n",
    "Sales_prod = Ugdan_prod['Расход_кол'].sum()\n",
    "Sales_sum_prod = Ugdan_prod['Расход_сумм'].sum()\n",
    "Sum_begin_prod = Ugdan_prod['Нач_ост_сумм'].sum()"
   ]
  },
  {
   "attachments": {},
   "cell_type": "markdown",
   "metadata": {},
   "source": [
    "## Итоговые значения по первой таблице"
   ]
  },
  {
   "cell_type": "code",
   "execution_count": 11,
   "metadata": {},
   "outputs": [
    {
     "data": {
      "text/html": [
       "<div>\n",
       "<style scoped>\n",
       "    .dataframe tbody tr th:only-of-type {\n",
       "        vertical-align: middle;\n",
       "    }\n",
       "\n",
       "    .dataframe tbody tr th {\n",
       "        vertical-align: top;\n",
       "    }\n",
       "\n",
       "    .dataframe thead th {\n",
       "        text-align: right;\n",
       "    }\n",
       "</style>\n",
       "<table border=\"1\" class=\"dataframe\">\n",
       "  <thead>\n",
       "    <tr style=\"text-align: right;\">\n",
       "      <th></th>\n",
       "      <th>Шт.</th>\n",
       "      <th>Сумма.</th>\n",
       "    </tr>\n",
       "    <tr>\n",
       "      <th>Склад</th>\n",
       "      <th></th>\n",
       "      <th></th>\n",
       "    </tr>\n",
       "  </thead>\n",
       "  <tbody>\n",
       "    <tr>\n",
       "      <th>Угданский - масло</th>\n",
       "      <td>377.0</td>\n",
       "      <td>121688.08</td>\n",
       "    </tr>\n",
       "    <tr>\n",
       "      <th>Угданский - запасные части</th>\n",
       "      <td>5360.0</td>\n",
       "      <td>4762409.98</td>\n",
       "    </tr>\n",
       "    <tr>\n",
       "      <th>Итого</th>\n",
       "      <td>5737.0</td>\n",
       "      <td>4884098.06</td>\n",
       "    </tr>\n",
       "    <tr>\n",
       "      <th>Продажи за ГОД в ценах с/с</th>\n",
       "      <td>6791.5</td>\n",
       "      <td>4437375.99</td>\n",
       "    </tr>\n",
       "    <tr>\n",
       "      <th>Коэфф. оборачиваемости товара</th>\n",
       "      <td>0</td>\n",
       "      <td>0.88</td>\n",
       "    </tr>\n",
       "  </tbody>\n",
       "</table>\n",
       "</div>"
      ],
      "text/plain": [
       "                                  Шт.      Сумма.\n",
       "Склад                                            \n",
       "Угданский - масло               377.0   121688.08\n",
       "Угданский - запасные части     5360.0  4762409.98\n",
       "Итого                          5737.0  4884098.06\n",
       "Продажи за ГОД в ценах с/с     6791.5  4437375.99\n",
       "Коэфф. оборачиваемости товара       0        0.88"
      ]
     },
     "execution_count": 11,
     "metadata": {},
     "output_type": "execute_result"
    }
   ],
   "source": [
    "itog_UGD = pd.DataFrame({'Склад': ['Угданский - масло', 'Угданский - запасные части', 'Итого', 'Продажи за ГОД в ценах с/с', 'Коэфф. оборачиваемости товара'], \n",
    "                    'Шт.': [Quanity_oil, Quanity_prod, Quanity_oil+Quanity_prod, Sales_oil+Sales_prod, '0'], \n",
    "                    'Сумма.': [Sum_oil, Sum_prod, Sum_oil+Sum_prod, Sales_sum_oil+Sales_sum_prod, (Sales_sum_oil+Sales_sum_prod)/((Sum_begin_oil+Sum_begin_prod+Sum_prod+Sum_oil)/2)]})\n",
    "itog_UGD = itog_UGD.set_index('Склад').round(2)\n",
    "\n",
    "itog_UGD"
   ]
  },
  {
   "cell_type": "code",
   "execution_count": 12,
   "metadata": {},
   "outputs": [],
   "source": [
    "# Исключим из таблицы строки, где Name включает в себя ', ,'\n",
    "rule = [\", ,\"]\n",
    "rule_2 = [\"ЧАТЦ\"]\n",
    "Ugdan = Ugdan[~Ugdan.Name.str.contains('|'.join(rule))]\n",
    "Ugdan = Ugdan[~Ugdan.Name.str.contains('|'.join(rule_2))]"
   ]
  },
  {
   "attachments": {},
   "cell_type": "markdown",
   "metadata": {},
   "source": [
    "## Выполнение функций для подсчета, внесения инфы и оформления"
   ]
  },
  {
   "cell_type": "code",
   "execution_count": 13,
   "metadata": {},
   "outputs": [],
   "source": [
    "itog = itog_UGD\n",
    "table = Ugdan\n",
    "File = ('Угдан_апрель.xlsx')\n",
    "create_table(File)\n",
    "groups(table, File)\n",
    "add_groups(table, File)\n",
    "decor_file(File)"
   ]
  },
  {
   "attachments": {},
   "cell_type": "markdown",
   "metadata": {},
   "source": [
    "# МБ ТРАК"
   ]
  },
  {
   "cell_type": "code",
   "execution_count": 14,
   "metadata": {},
   "outputs": [],
   "source": [
    "# Отберем данные для отдельной таблицы по МБ Трак\n",
    "start_MB = Oststki.index [Oststki['Name']== \"Основной склад (МБ ТРАК)\" ]. tolist ()[0]\n",
    "end_MB = Oststki.index [Oststki['Name']== \"Склад материалов (МБ ТРАК)\" ]. tolist ()[0]\n",
    "\n",
    "list = [i for i in range(start_MB, end_MB+1)]                                # Функция для отбора только данным по Угданский Чатц\n",
    "MB = Oststki.take(list, axis = 0)\n",
    "\n",
    "MB.reset_index(drop= True , inplace= True )                                  # сразу обнулим индексы для последующей работы с данными"
   ]
  },
  {
   "cell_type": "code",
   "execution_count": 15,
   "metadata": {},
   "outputs": [],
   "source": [
    "start_MB_masla = MB.index [MB['Name']== \"Основной склад (МБ ТРАК)\" ]. tolist ()[0]                 # Отберем данные для отдельной таблицы по МБ Трак (масла)\n",
    "end_MB_masla = MB.index [MB['Name']== \"Материалы, , \" ]. tolist ()[0]\n",
    "\n",
    "list = [i for i in range(start_MB_masla, end_MB_masla+1)]                                          # Функция для отбора только данных по МБ Трак (масла)\n",
    "MB_masla = MB.take(list, axis = 0)\n",
    "\n",
    "start_MB_tov = MB.index [MB['Name']== \"Товары, , \" ]. tolist ()[0]                                 # Отберем данные для отдельной таблицы по МБ Трак (товары)\n",
    "end_MB_tov = MB.index [MB['Name']== \"Склад материалов (МБ ТРАК)\" ]. tolist ()[0]\n",
    "\n",
    "list = [i for i in range(start_MB_tov, end_MB_tov+1)]                                              # Функция для отбора только данных по МБ Трак (товары)\n",
    "MB_tov = MB.take(list, axis = 0)"
   ]
  },
  {
   "cell_type": "code",
   "execution_count": 16,
   "metadata": {},
   "outputs": [],
   "source": [
    "# Исключим из таблицы строки, где Name включает в себя ', ,'\n",
    "rule = [\", ,\"]\n",
    "rule_2 = [\"ТРАК\"]\n",
    "\n",
    "MB_masla = MB_masla[~MB_masla.Name.str.contains('|'.join(rule))]\n",
    "MB_masla = MB_masla[~MB_masla.Name.str.contains('|'.join(rule_2))]\n",
    "\n",
    "MB_tov = MB_tov[~MB_tov.Name.str.contains('|'.join(rule))]\n",
    "MB_tov = MB_tov[~MB_tov.Name.str.contains('|'.join(rule_2))]"
   ]
  },
  {
   "cell_type": "code",
   "execution_count": 17,
   "metadata": {},
   "outputs": [],
   "source": [
    " # Подсчет всех значений для первой таблицы\n",
    "Quanity_masla = MB_masla['Кон_ост_кол'].sum()\n",
    "Sum_masla = MB_masla['Кон_ост_сумм'].sum()\n",
    "Sales_masla = MB_masla['Расход_кол'].sum()\n",
    "Sales_sum_masla = MB_masla['Расход_сумм'].sum()\n",
    "Sum_begin_masla = MB_masla['Нач_ост_сумм'].sum()\n",
    "\n",
    "Quanity_tov = MB_tov['Кон_ост_кол'].sum()\n",
    "Sum_tov = MB_tov['Кон_ост_сумм'].sum()\n",
    "Sales_tov = MB_tov['Расход_кол'].sum()\n",
    "Sales_sum_tov = MB_tov['Расход_сумм'].sum()\n",
    "Sum_begin_tov = MB_tov['Нач_ост_сумм'].sum()"
   ]
  },
  {
   "cell_type": "code",
   "execution_count": 18,
   "metadata": {},
   "outputs": [
    {
     "data": {
      "text/html": [
       "<div>\n",
       "<style scoped>\n",
       "    .dataframe tbody tr th:only-of-type {\n",
       "        vertical-align: middle;\n",
       "    }\n",
       "\n",
       "    .dataframe tbody tr th {\n",
       "        vertical-align: top;\n",
       "    }\n",
       "\n",
       "    .dataframe thead th {\n",
       "        text-align: right;\n",
       "    }\n",
       "</style>\n",
       "<table border=\"1\" class=\"dataframe\">\n",
       "  <thead>\n",
       "    <tr style=\"text-align: right;\">\n",
       "      <th></th>\n",
       "      <th>Шт.</th>\n",
       "      <th>Сумма.</th>\n",
       "    </tr>\n",
       "    <tr>\n",
       "      <th>Склад</th>\n",
       "      <th></th>\n",
       "      <th></th>\n",
       "    </tr>\n",
       "  </thead>\n",
       "  <tbody>\n",
       "    <tr>\n",
       "      <th>Масла и химия</th>\n",
       "      <td>810.525</td>\n",
       "      <td>397059.76</td>\n",
       "    </tr>\n",
       "    <tr>\n",
       "      <th>Товары</th>\n",
       "      <td>909.0</td>\n",
       "      <td>13762197.94</td>\n",
       "    </tr>\n",
       "    <tr>\n",
       "      <th>Итого</th>\n",
       "      <td>1719.525</td>\n",
       "      <td>14159257.70</td>\n",
       "    </tr>\n",
       "    <tr>\n",
       "      <th>Продажи за ГОД в ценах с/с</th>\n",
       "      <td>3677.5</td>\n",
       "      <td>5286491.61</td>\n",
       "    </tr>\n",
       "    <tr>\n",
       "      <th>Коэфф. оборачиваемости товара</th>\n",
       "      <td>0</td>\n",
       "      <td>0.53</td>\n",
       "    </tr>\n",
       "  </tbody>\n",
       "</table>\n",
       "</div>"
      ],
      "text/plain": [
       "                                    Шт.       Сумма.\n",
       "Склад                                               \n",
       "Масла и химия                   810.525    397059.76\n",
       "Товары                            909.0  13762197.94\n",
       "Итого                          1719.525  14159257.70\n",
       "Продажи за ГОД в ценах с/с       3677.5   5286491.61\n",
       "Коэфф. оборачиваемости товара         0         0.53"
      ]
     },
     "execution_count": 18,
     "metadata": {},
     "output_type": "execute_result"
    }
   ],
   "source": [
    "itog_Trac = pd.DataFrame({'Склад': ['Масла и химия', 'Товары', 'Итого', 'Продажи за ГОД в ценах с/с', 'Коэфф. оборачиваемости товара'], \n",
    "                    'Шт.': [Quanity_masla, Quanity_tov, Quanity_masla+Quanity_tov, Sales_masla + Sales_tov, '0'], \n",
    "                    'Сумма.': [Sum_masla, Sum_tov, Sum_masla+Sum_tov, Sales_sum_masla+Sales_sum_tov, (Sales_sum_masla+Sales_sum_tov)/((Sum_begin_masla+Sum_begin_tov+Sum_masla+Sum_tov)/2)]})\n",
    "itog_Trac = itog_Trac.set_index('Склад').round(2)\n",
    "\n",
    "itog_Trac"
   ]
  },
  {
   "cell_type": "code",
   "execution_count": 19,
   "metadata": {},
   "outputs": [],
   "source": [
    "Trac = pd.concat([MB_masla, MB_tov]) # объединяем таблицы для выбора групп"
   ]
  },
  {
   "attachments": {},
   "cell_type": "markdown",
   "metadata": {},
   "source": [
    "# Выполнение функций для подсчета, внесения инфы и оформления"
   ]
  },
  {
   "cell_type": "code",
   "execution_count": 20,
   "metadata": {},
   "outputs": [],
   "source": [
    "itog = itog_Trac\n",
    "table = Trac\n",
    "File = ('МБ_Трак_апрель.xlsx')\n",
    "create_table(File)\n",
    "groups(table, File)\n",
    "add_groups(table, File)\n",
    "decor_file(File)"
   ]
  },
  {
   "attachments": {},
   "cell_type": "markdown",
   "metadata": {},
   "source": [
    "# ТАХОГРАФЫ"
   ]
  },
  {
   "cell_type": "code",
   "execution_count": 22,
   "metadata": {},
   "outputs": [],
   "source": [
    "# Отберем данные для отдельной таблицы по Тахографам\n",
    "start_tah = Oststki.index [Oststki['Name']== \"ТАХОГРАФЫ\" ]. tolist ()[0]\n",
    "end_tah = Oststki.index [Oststki['Name']== \"Итого\" ]. tolist ()[0]\n",
    "\n",
    "# Функция для отбора только данных по Тахографам\n",
    "list = [i for i in range(start_tah, end_tah+1)]\n",
    "Tah = Oststki.take(list, axis = 0)\n",
    "\n",
    "# сразу обнулим индексы для последующей работы с данными\n",
    "Tah.reset_index(drop= True , inplace= True )"
   ]
  },
  {
   "cell_type": "code",
   "execution_count": 23,
   "metadata": {},
   "outputs": [],
   "source": [
    "# Отберем данные для отдельной таблицы по товарам\n",
    "start_tah_tov = Tah.index [Tah['Name']== \"Товары, , \" ]. tolist ()[0]\n",
    "end_tah_tov = Tah.index [Tah['Name']== \"Итого\" ]. tolist ()[0]\n",
    "\n",
    "# Функция для отбора только данных по товарам\n",
    "list = [i for i in range(start_tah_tov, end_tah_tov+1)]\n",
    "Tah_tov = Tah.take(list, axis = 0)\n",
    "\n",
    "# Исключим из таблицы строки, где Name включает в себя ', ,'\n",
    "rule = [\", ,\"]\n",
    "rule_2 = [\"Итого\"]\n",
    "\n",
    "Tah_tov = Tah_tov[~Tah_tov.Name.str.contains('|'.join(rule))]\n",
    "Tah_tov = Tah_tov[~Tah_tov.Name.str.contains('|'.join(rule_2))]"
   ]
  },
  {
   "cell_type": "code",
   "execution_count": 24,
   "metadata": {},
   "outputs": [],
   "source": [
    "# Подсчет всех значений\n",
    "Quanity_Tah = Tah_tov['Кон_ост_кол'].sum()\n",
    "Sum_Tah = Tah_tov['Кон_ост_сумм'].sum()\n",
    "Sales_Tah = Tah_tov['Расход_кол'].sum()\n",
    "Sales_sum_Tah = Tah_tov['Расход_сумм'].sum()\n",
    "Sum_begin_Tah = Tah_tov['Нач_ост_сумм'].sum()"
   ]
  },
  {
   "cell_type": "code",
   "execution_count": 25,
   "metadata": {},
   "outputs": [
    {
     "data": {
      "text/html": [
       "<div>\n",
       "<style scoped>\n",
       "    .dataframe tbody tr th:only-of-type {\n",
       "        vertical-align: middle;\n",
       "    }\n",
       "\n",
       "    .dataframe tbody tr th {\n",
       "        vertical-align: top;\n",
       "    }\n",
       "\n",
       "    .dataframe thead th {\n",
       "        text-align: right;\n",
       "    }\n",
       "</style>\n",
       "<table border=\"1\" class=\"dataframe\">\n",
       "  <thead>\n",
       "    <tr style=\"text-align: right;\">\n",
       "      <th></th>\n",
       "      <th>Шт.</th>\n",
       "      <th>Сумма.</th>\n",
       "    </tr>\n",
       "    <tr>\n",
       "      <th>Склад</th>\n",
       "      <th></th>\n",
       "      <th></th>\n",
       "    </tr>\n",
       "  </thead>\n",
       "  <tbody>\n",
       "    <tr>\n",
       "      <th>Товары</th>\n",
       "      <td>165.0</td>\n",
       "      <td>314184.97</td>\n",
       "    </tr>\n",
       "    <tr>\n",
       "      <th>Итого</th>\n",
       "      <td>165.0</td>\n",
       "      <td>314184.97</td>\n",
       "    </tr>\n",
       "    <tr>\n",
       "      <th>Продажи за ГОД в ценах с/с</th>\n",
       "      <td>14.0</td>\n",
       "      <td>80047.01</td>\n",
       "    </tr>\n",
       "    <tr>\n",
       "      <th>Коэфф. оборачиваемости товара</th>\n",
       "      <td>0</td>\n",
       "      <td>0.29</td>\n",
       "    </tr>\n",
       "  </tbody>\n",
       "</table>\n",
       "</div>"
      ],
      "text/plain": [
       "                                 Шт.     Сумма.\n",
       "Склад                                          \n",
       "Товары                         165.0  314184.97\n",
       "Итого                          165.0  314184.97\n",
       "Продажи за ГОД в ценах с/с      14.0   80047.01\n",
       "Коэфф. оборачиваемости товара      0       0.29"
      ]
     },
     "execution_count": 25,
     "metadata": {},
     "output_type": "execute_result"
    }
   ],
   "source": [
    "itog_Tah = pd.DataFrame({'Склад': ['Товары', 'Итого', 'Продажи за ГОД в ценах с/с', 'Коэфф. оборачиваемости товара'], \n",
    "                    'Шт.': [Quanity_Tah, Quanity_Tah, Sales_Tah, '0'], \n",
    "                    'Сумма.': [Sum_Tah, Sum_Tah, Sales_sum_Tah, (Sales_sum_Tah)/((Sum_begin_Tah+Sum_Tah)/2)]})\n",
    "itog_Tah = itog_Tah.set_index('Склад').round(2)\n",
    "\n",
    "itog_Tah"
   ]
  },
  {
   "attachments": {},
   "cell_type": "markdown",
   "metadata": {},
   "source": [
    "# Выполнение функций для подсчета, внесения инфы и оформления"
   ]
  },
  {
   "cell_type": "code",
   "execution_count": 26,
   "metadata": {},
   "outputs": [],
   "source": [
    "itog=itog_Tah\n",
    "table = Tah_tov\n",
    "File = ('Тахографы_апрель.xlsx')\n",
    "create_table(File)\n",
    "groups(table, File)\n",
    "add_groups(table, File)\n",
    "decor_file(File)"
   ]
  },
  {
   "attachments": {},
   "cell_type": "markdown",
   "metadata": {},
   "source": [
    "# ГЕОДЕЗ"
   ]
  },
  {
   "cell_type": "code",
   "execution_count": 27,
   "metadata": {},
   "outputs": [],
   "source": [
    "# Отберем данные для по Геодезу\n",
    "start_geo = Oststki.index [Oststki['Name']== \"Геодезическая ЧАТЦ склад\" ]. tolist ()[0]\n",
    "end_geo = Oststki.index [Oststki['Name']== \"МОЛ Глазков Артем Дмитриевич\" ]. tolist ()[0]\n",
    "\n",
    "# Функция для отбора всех данных по Геодезу\n",
    "list = [i for i in range(start_geo, end_geo+1)]\n",
    "Geo = Oststki.take(list, axis = 0)\n",
    "\n",
    "# сразу обнулим индексы для последующей работы с данными\n",
    "Geo.reset_index(drop= True , inplace= True )"
   ]
  },
  {
   "cell_type": "code",
   "execution_count": 28,
   "metadata": {},
   "outputs": [],
   "source": [
    "#Данные по материалам и товарам\n",
    "\n",
    "# Отберем данные для по Геодезу (матариалы и товары)\n",
    "start_geo_1 = Geo.index [Geo['Name']== \"Материалы, , \" ]. tolist ()[0]\n",
    "end_geo_1 = Geo.index [Geo['Name']== \"МОЛ Глазков Артем Дмитриевич\" ]. tolist ()[0]\n",
    "\n",
    "# Функция для отбора только данных по (матариалы и товары)\n",
    "list = [i for i in range(start_geo_1, end_geo_1+1)]\n",
    "Geo_1 = Geo.take(list, axis = 0)\n",
    "\n",
    "# Исключим из таблицы строки, где Name включает в себя ', ,'\n",
    "rule = [\", ,\"]\n",
    "rule_2 = [\"МОЛ\"]\n",
    "\n",
    "Geo_1 = Geo_1[~Geo_1.Name.str.contains('|'.join(rule))]"
   ]
  },
  {
   "cell_type": "code",
   "execution_count": 29,
   "metadata": {},
   "outputs": [],
   "source": [
    "# Данные по товарам ЧТЦ сервис\n",
    "\n",
    "# Отберем данные для по ООО ЧАТЦ\n",
    "start_чатц = Oststki.index [Oststki['Name']== \"ООО Читаавтотехцентр (сервис)\" ]. tolist ()[0]\n",
    "end_чатц = Oststki.index[Oststki['Name'].str.contains(r'\\bУгданский')]. tolist ()[0]\n",
    "\n",
    "# Функция для отбора всех данных по Геодезу\n",
    "list = [i for i in range(start_чатц, end_чатц+1)]\n",
    "ЧАТЦ = Oststki.take(list, axis = 0)\n",
    "\n",
    "# сразу обнулим индексы для последующей работы с данными\n",
    "ЧАТЦ.reset_index(drop= True , inplace= True )"
   ]
  },
  {
   "cell_type": "code",
   "execution_count": 30,
   "metadata": {},
   "outputs": [],
   "source": [
    "# Отберем данные для по Основной склад компании\n",
    "start_чатц = ЧАТЦ.index [ЧАТЦ['Name']== \"Основной склад компании\" ]. tolist ()[0]\n",
    "end_чатц = ЧАТЦ.index[ЧАТЦ['Name'].str.contains(r'\\bУгданский')]. tolist ()[0]\n",
    "\n",
    "# Функция для отбора всех данных по Геодезу\n",
    "list = [i for i in range(start_чатц, end_чатц+1)]\n",
    "ЧАТЦ = ЧАТЦ.take(list, axis = 0)\n",
    "\n",
    "# сразу обнулим индексы для последующей работы с данными\n",
    "ЧАТЦ.reset_index(drop= True , inplace= True )"
   ]
  },
  {
   "cell_type": "code",
   "execution_count": 31,
   "metadata": {},
   "outputs": [],
   "source": [
    "# Отберем данные для по товарам в Основной склад компании\n",
    "start_чатц = ЧАТЦ.index [ЧАТЦ['Name']== \"Товары, , \" ]. tolist ()[0]\n",
    "end_чатц = ЧАТЦ.index[ЧАТЦ['Name'].str.contains(r'\\bУгданский')]. tolist ()[0]\n",
    "\n",
    "# Функция для отбора всех данных по Геодезу\n",
    "list = [i for i in range(start_чатц, end_чатц+1)]\n",
    "ЧАТЦ = ЧАТЦ.take(list, axis = 0)\n",
    "\n",
    "# сразу обнулим индексы для последующей работы с данными\n",
    "ЧАТЦ.reset_index(drop= True , inplace= True )\n",
    "\n",
    "# Исключим из таблицы строки, где Name включает в себя ', ,'\n",
    "rule = [\", ,\"]\n",
    "rule_2 = [\"ЧАТЦ\"]\n",
    "\n",
    "ЧАТЦ = ЧАТЦ[~ЧАТЦ.Name.str.contains('|'.join(rule))]\n",
    "ЧАТЦ = ЧАТЦ[~ЧАТЦ.Name.str.contains('|'.join(rule_2))]"
   ]
  },
  {
   "attachments": {},
   "cell_type": "markdown",
   "metadata": {},
   "source": [
    "## Подсчет значений для первой таблицы"
   ]
  },
  {
   "cell_type": "code",
   "execution_count": 32,
   "metadata": {},
   "outputs": [],
   "source": [
    "# Подсчет всех значений по Геодез материалы и товары\n",
    "Quanity_Geo_1 = Geo_1['Кон_ост_кол'].sum()\n",
    "Sum_Geo_1 = Geo_1['Кон_ост_сумм'].sum()\n",
    "Sales_Geo_1 = Geo_1['Расход_кол'].sum()\n",
    "Sales_sum_Geo_1 = Geo_1['Расход_сумм'].sum()\n",
    "Sum_begin_Geo_1 = Geo_1['Нач_ост_сумм'].sum()\n",
    "\n",
    "# Подсчет всех значений по ЧАТЦ товары\n",
    "Quanity_ЧАТЦ = ЧАТЦ['Кон_ост_кол'].sum()\n",
    "Sum_ЧАТЦ = ЧАТЦ['Кон_ост_сумм'].sum()\n",
    "Sales_ЧАТЦ = ЧАТЦ['Расход_кол'].sum()\n",
    "Sales_sum_ЧАТЦ = ЧАТЦ['Расход_сумм'].sum()\n",
    "Sum_begin_ЧАТЦ = ЧАТЦ['Нач_ост_сумм'].sum()"
   ]
  },
  {
   "cell_type": "code",
   "execution_count": 33,
   "metadata": {},
   "outputs": [
    {
     "data": {
      "text/html": [
       "<div>\n",
       "<style scoped>\n",
       "    .dataframe tbody tr th:only-of-type {\n",
       "        vertical-align: middle;\n",
       "    }\n",
       "\n",
       "    .dataframe tbody tr th {\n",
       "        vertical-align: top;\n",
       "    }\n",
       "\n",
       "    .dataframe thead th {\n",
       "        text-align: right;\n",
       "    }\n",
       "</style>\n",
       "<table border=\"1\" class=\"dataframe\">\n",
       "  <thead>\n",
       "    <tr style=\"text-align: right;\">\n",
       "      <th></th>\n",
       "      <th>Шт.</th>\n",
       "      <th>Сумма.</th>\n",
       "    </tr>\n",
       "    <tr>\n",
       "      <th>Склад</th>\n",
       "      <th></th>\n",
       "      <th></th>\n",
       "    </tr>\n",
       "  </thead>\n",
       "  <tbody>\n",
       "    <tr>\n",
       "      <th>Материалы и тов. Геодез</th>\n",
       "      <td>10388.5</td>\n",
       "      <td>27237672.00</td>\n",
       "    </tr>\n",
       "    <tr>\n",
       "      <th>Товары ЧТЦ</th>\n",
       "      <td>16.0</td>\n",
       "      <td>59469.17</td>\n",
       "    </tr>\n",
       "    <tr>\n",
       "      <th>Итого</th>\n",
       "      <td>10404.5</td>\n",
       "      <td>27297141.17</td>\n",
       "    </tr>\n",
       "    <tr>\n",
       "      <th>Продажи за ГОД в ценах с/с</th>\n",
       "      <td>14399.5</td>\n",
       "      <td>35591678.03</td>\n",
       "    </tr>\n",
       "    <tr>\n",
       "      <th>Коэфф. оборачиваемости товара</th>\n",
       "      <td>0</td>\n",
       "      <td>1.42</td>\n",
       "    </tr>\n",
       "  </tbody>\n",
       "</table>\n",
       "</div>"
      ],
      "text/plain": [
       "                                   Шт.       Сумма.\n",
       "Склад                                              \n",
       "Материалы и тов. Геодез        10388.5  27237672.00\n",
       "Товары ЧТЦ                        16.0     59469.17\n",
       "Итого                          10404.5  27297141.17\n",
       "Продажи за ГОД в ценах с/с     14399.5  35591678.03\n",
       "Коэфф. оборачиваемости товара        0         1.42"
      ]
     },
     "execution_count": 33,
     "metadata": {},
     "output_type": "execute_result"
    }
   ],
   "source": [
    "itog_Geo = pd.DataFrame({'Склад': ['Материалы и тов. Геодез', 'Товары ЧТЦ', 'Итого', 'Продажи за ГОД в ценах с/с', 'Коэфф. оборачиваемости товара'], \n",
    "                    'Шт.': [Quanity_Geo_1,  Quanity_ЧАТЦ, Quanity_Geo_1+Quanity_ЧАТЦ, Sales_Geo_1+Sales_ЧАТЦ, '0'], \n",
    "                    'Сумма.': [Sum_Geo_1, Sum_ЧАТЦ, Sum_Geo_1+Sum_ЧАТЦ, Sales_sum_Geo_1+Sales_sum_ЧАТЦ, (Sales_sum_Geo_1+Sales_sum_ЧАТЦ)/((Sum_begin_Geo_1+Sum_begin_ЧАТЦ+Sum_Geo_1+Sum_ЧАТЦ)/2)]})\n",
    "itog_Geo = itog_Geo.set_index('Склад').round(2)\n",
    "\n",
    "itog_Geo"
   ]
  },
  {
   "cell_type": "code",
   "execution_count": 34,
   "metadata": {},
   "outputs": [],
   "source": [
    "All = pd.concat([Geo_1, ЧАТЦ]) # объединяем таблицы для выбора групп"
   ]
  },
  {
   "attachments": {},
   "cell_type": "markdown",
   "metadata": {},
   "source": [
    "# Выполнение функций для подсчета, внесения инфы и оформления"
   ]
  },
  {
   "cell_type": "code",
   "execution_count": 35,
   "metadata": {},
   "outputs": [],
   "source": [
    "itog=itog_Geo\n",
    "table = All\n",
    "File = ('Геодез_и_ЧТЦ_апрель.xlsx')\n",
    "create_table(File)\n",
    "groups(table, File)\n",
    "add_groups(table, File)\n",
    "decor_file(File)"
   ]
  },
  {
   "attachments": {},
   "cell_type": "markdown",
   "metadata": {},
   "source": [
    "# МАСЛА"
   ]
  },
  {
   "attachments": {},
   "cell_type": "markdown",
   "metadata": {},
   "source": [
    "## Масла Геодез магазин"
   ]
  },
  {
   "cell_type": "code",
   "execution_count": 36,
   "metadata": {},
   "outputs": [],
   "source": [
    "# Отберем данные по Маслам в Геодез магазине\n",
    "start_oil_1 = Oststki.index [Oststki['Name']== \"Геодезическая ЧАТЦ склад\" ]. tolist ()[0]\n",
    "end_oil_1 = Oststki.index [Oststki['Name']== \"Материалы, , \" ]. tolist ()[0]\n",
    "\n",
    "# Функция для отбора всех данных по Геодезу\n",
    "list = [i for i in range(start_oil_1, end_oil_1+1)]\n",
    "OIL_1 = Oststki.take(list, axis = 0)\n",
    "\n",
    "# Исключим из таблицы строки, где Name включает в себя ', ,'\n",
    "rule = [\", ,\"]\n",
    "rule_2 = [\"ЧАТЦ\"]\n",
    "\n",
    "OIL_1 = OIL_1[~OIL_1.Name.str.contains('|'.join(rule))]\n",
    "OIL_1 = OIL_1[~OIL_1.Name.str.contains('|'.join(rule_2))]"
   ]
  },
  {
   "attachments": {},
   "cell_type": "markdown",
   "metadata": {},
   "source": [
    "## Масла ЧТЦ"
   ]
  },
  {
   "cell_type": "code",
   "execution_count": 37,
   "metadata": {},
   "outputs": [],
   "source": [
    "# Отберем данные по Маслам в ЧТЦ сервисе\n",
    "start_oil_2 = Oststki.index [Oststki['Name']== \"ООО Читаавтотехцентр (сервис)\" ]. tolist ()[0]\n",
    "end_oil_2 = Oststki.index[Oststki['Name'].str.contains(r'\\bУгданский')]. tolist ()[0]\n",
    "\n",
    "# Функция для отбора данных\n",
    "list = [i for i in range(start_oil_2, end_oil_2+1)]\n",
    "OIL_2 = Oststki.take(list, axis = 0)\n",
    "\n",
    "# сразу обнулим индексы для последующей работы с данными\n",
    "OIL_2.reset_index(drop= True , inplace= True )"
   ]
  },
  {
   "cell_type": "code",
   "execution_count": 38,
   "metadata": {},
   "outputs": [],
   "source": [
    "# Отберем данные для по Основной склад компании\n",
    "start_oil_2 = OIL_2.index [OIL_2['Name']== \"Основной склад компании\" ]. tolist ()[0]\n",
    "end_oil_2 = OIL_2.index[OIL_2['Name'].str.contains(r'\\bУгданский')]. tolist ()[0]\n",
    "\n",
    "# Функция для отбора всех данных по Геодезу\n",
    "list = [i for i in range(start_oil_2, end_oil_2+1)]\n",
    "OIL_2 = OIL_2.take(list, axis = 0)\n",
    "\n",
    "# сразу обнулим индексы для последующей работы с данными\n",
    "OIL_2.reset_index(drop= True , inplace= True )"
   ]
  },
  {
   "cell_type": "code",
   "execution_count": 39,
   "metadata": {},
   "outputs": [],
   "source": [
    "# Отберем данные для по маслам\n",
    "start_oil_2 = OIL_2.index [OIL_2['Name']== \"Основной склад компании\" ]. tolist ()[0]\n",
    "end_oil_2 = OIL_2.index [OIL_2['Name']== \"Материалы, , \" ]. tolist ()[0]\n",
    "\n",
    "# Функция для отбора\n",
    "list = [i for i in range(start_oil_2, end_oil_2+1)]\n",
    "OIL_2 = OIL_2.take(list, axis = 0)\n",
    "\n",
    "# Исключим из таблицы строки, где Name включает в себя ', ,'\n",
    "rule = [\", ,\"]\n",
    "rule_2 = [\"склад\"]\n",
    "\n",
    "OIL_2 = OIL_2[~OIL_2.Name.str.contains('|'.join(rule))]\n",
    "OIL_2 = OIL_2[~OIL_2.Name.str.contains('|'.join(rule_2))]"
   ]
  },
  {
   "attachments": {},
   "cell_type": "markdown",
   "metadata": {},
   "source": [
    "## Подсчет значений для первой таблицы"
   ]
  },
  {
   "cell_type": "code",
   "execution_count": 40,
   "metadata": {},
   "outputs": [],
   "source": [
    "# Подсчет всех значений по маслам Геодез\n",
    "Quanity_1 = OIL_1['Кон_ост_кол'].sum()\n",
    "Sum_1 = OIL_1['Кон_ост_сумм'].sum()\n",
    "Sales_1 = OIL_1['Расход_кол'].sum()\n",
    "Sales_sum_1 = OIL_1['Расход_сумм'].sum()\n",
    "Sum_begin_1 = OIL_1['Нач_ост_сумм'].sum()\n",
    "\n",
    "# Подсчет всех значений по маслам ЧАТЦ\n",
    "Quanity_2 = OIL_2['Кон_ост_кол'].sum()\n",
    "Sum_2 = OIL_2['Кон_ост_сумм'].sum()\n",
    "Sales_2 = OIL_2['Расход_кол'].sum()\n",
    "Sales_sum_2 = OIL_2['Расход_сумм'].sum()\n",
    "Sum_begin_2 = OIL_2['Нач_ост_сумм'].sum()"
   ]
  },
  {
   "cell_type": "code",
   "execution_count": 41,
   "metadata": {},
   "outputs": [
    {
     "data": {
      "text/html": [
       "<div>\n",
       "<style scoped>\n",
       "    .dataframe tbody tr th:only-of-type {\n",
       "        vertical-align: middle;\n",
       "    }\n",
       "\n",
       "    .dataframe tbody tr th {\n",
       "        vertical-align: top;\n",
       "    }\n",
       "\n",
       "    .dataframe thead th {\n",
       "        text-align: right;\n",
       "    }\n",
       "</style>\n",
       "<table border=\"1\" class=\"dataframe\">\n",
       "  <thead>\n",
       "    <tr style=\"text-align: right;\">\n",
       "      <th></th>\n",
       "      <th>Шт.</th>\n",
       "      <th>Сумма.</th>\n",
       "    </tr>\n",
       "    <tr>\n",
       "      <th>Склад</th>\n",
       "      <th></th>\n",
       "      <th></th>\n",
       "    </tr>\n",
       "  </thead>\n",
       "  <tbody>\n",
       "    <tr>\n",
       "      <th>Масла Геодез</th>\n",
       "      <td>2561.25</td>\n",
       "      <td>1131895.11</td>\n",
       "    </tr>\n",
       "    <tr>\n",
       "      <th>Масла ЧАТЦ</th>\n",
       "      <td>0.0</td>\n",
       "      <td>0.00</td>\n",
       "    </tr>\n",
       "    <tr>\n",
       "      <th>Итого</th>\n",
       "      <td>2561.25</td>\n",
       "      <td>1131895.11</td>\n",
       "    </tr>\n",
       "    <tr>\n",
       "      <th>Продажи за ГОД в ценах с/с</th>\n",
       "      <td>8426.15</td>\n",
       "      <td>2869879.65</td>\n",
       "    </tr>\n",
       "    <tr>\n",
       "      <th>Коэфф. оборачиваемости товара</th>\n",
       "      <td>0</td>\n",
       "      <td>2.39</td>\n",
       "    </tr>\n",
       "  </tbody>\n",
       "</table>\n",
       "</div>"
      ],
      "text/plain": [
       "                                   Шт.      Сумма.\n",
       "Склад                                             \n",
       "Масла Геодез                   2561.25  1131895.11\n",
       "Масла ЧАТЦ                         0.0        0.00\n",
       "Итого                          2561.25  1131895.11\n",
       "Продажи за ГОД в ценах с/с     8426.15  2869879.65\n",
       "Коэфф. оборачиваемости товара        0        2.39"
      ]
     },
     "execution_count": 41,
     "metadata": {},
     "output_type": "execute_result"
    }
   ],
   "source": [
    "itog_oil = pd.DataFrame({'Склад': ['Масла Геодез', 'Масла ЧАТЦ', 'Итого', 'Продажи за ГОД в ценах с/с', 'Коэфф. оборачиваемости товара'], \n",
    "                    'Шт.': [Quanity_1,  Quanity_2, Quanity_1+Quanity_2, Sales_1+Sales_2, '0'], \n",
    "                    'Сумма.': [Sum_1, Sum_2, Sum_1+Sum_2, Sales_sum_1+Sales_sum_2, (Sales_sum_1+Sales_sum_2)/((Sum_begin_1+Sum_begin_2+Sum_1+Sum_2)/2)]})\n",
    "itog_oil = itog_oil.set_index('Склад').round(2)\n",
    "\n",
    "itog_oil"
   ]
  },
  {
   "cell_type": "code",
   "execution_count": 42,
   "metadata": {},
   "outputs": [],
   "source": [
    "All_oil = pd.concat([OIL_1, OIL_2]) # объединяем таблицы для выбора групп"
   ]
  },
  {
   "attachments": {},
   "cell_type": "markdown",
   "metadata": {},
   "source": [
    "## Выполнение функций для подсчета, внесения инфы и оформления"
   ]
  },
  {
   "cell_type": "code",
   "execution_count": 43,
   "metadata": {},
   "outputs": [],
   "source": [
    "itog=itog_oil\n",
    "table = All_oil\n",
    "File = ('Масла_апрель.xlsx')\n",
    "create_table(File)\n",
    "groups(table, File)\n",
    "add_groups(table, File)\n",
    "decor_file(File)"
   ]
  },
  {
   "cell_type": "code",
   "execution_count": null,
   "metadata": {},
   "outputs": [],
   "source": []
  }
 ],
 "metadata": {
  "kernelspec": {
   "display_name": "Python 3 (ipykernel)",
   "language": "python",
   "name": "python3"
  },
  "language_info": {
   "codemirror_mode": {
    "name": "ipython",
    "version": 3
   },
   "file_extension": ".py",
   "mimetype": "text/x-python",
   "name": "python",
   "nbconvert_exporter": "python",
   "pygments_lexer": "ipython3",
   "version": "3.10.4"
  },
  "orig_nbformat": 4
 },
 "nbformat": 4,
 "nbformat_minor": 2
}
